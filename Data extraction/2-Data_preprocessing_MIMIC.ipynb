{
 "cells": [
  {
   "cell_type": "code",
   "execution_count": 1,
   "metadata": {},
   "outputs": [],
   "source": [
    "from __future__ import absolute_import\n",
    "from __future__ import print_function\n",
    "import pandas as pd\n",
    "import csv\n",
    "import sys\n",
    "import os\n",
    "\n",
    "import numpy as np\n",
    "import shutil\n",
    "pd.set_option('display.max_columns', 500)\n",
    "pd.set_option('display.max_rows', 500)\n",
    "\n",
    "mimic_path = \"the directory that indludes mimic-iii csv files\"\n",
    "root_path = \"the directory that includes the main csv data\"\n",
    "data_processed_path = \"directory to load the extracted data\""
   ]
  },
  {
   "cell_type": "code",
   "execution_count": 2,
   "metadata": {},
   "outputs": [],
   "source": [
    "all_data_deli = pd.read_csv(os.path.join(data_processed_path, 'all_data_delirium_mimic.csv'))"
   ]
  },
  {
   "cell_type": "code",
   "execution_count": null,
   "metadata": {},
   "outputs": [],
   "source": [
    "all_data_deli['GENDER'].value_counts()"
   ]
  },
  {
   "cell_type": "code",
   "execution_count": 4,
   "metadata": {},
   "outputs": [],
   "source": [
    "all_data_deli.loc[all_data_deli['CAM-ICU MS change'].notnull(),'CAM-ICU MS Change'] = all_data_deli['CAM-ICU MS change']"
   ]
  },
  {
   "cell_type": "code",
   "execution_count": 5,
   "metadata": {},
   "outputs": [],
   "source": [
    "col_order = ['ICUSTAY_ID','BIN','HOURS','AGE', 'GENDER', 'Height','Weight','PATIENTWEIGHT',\n",
    "             'Oxygen Saturation', 'Heart Rate','Temperature C', 'Temperature F','WBC',\n",
    "             'Sodium','BUN','Glucose','direct bilirubin','Hemoglobin','Platelets',\n",
    "             'Potassium','Chloride','Bicarbonate','Creatinine','ALT','AST','Alkaline Phosphate',\n",
    "             'Delirium assessment','CAM-ICU MS Change','CAM-ICU Inattention','CAM-ICU Altered LOC',\n",
    "             'CAM-ICU Disorganized thinking', \n",
    "             'CAM-ICU RASS LOC']\n",
    "            "
   ]
  },
  {
   "cell_type": "code",
   "execution_count": 6,
   "metadata": {},
   "outputs": [],
   "source": [
    "all_data_deli = all_data_deli[col_order]"
   ]
  },
  {
   "cell_type": "code",
   "execution_count": null,
   "metadata": {},
   "outputs": [],
   "source": [
    "all_data_deli.head(1)"
   ]
  },
  {
   "cell_type": "code",
   "execution_count": null,
   "metadata": {},
   "outputs": [],
   "source": [
    "all_data_deli.groupby(['ICUSTAY_ID']).head(1).shape"
   ]
  },
  {
   "cell_type": "markdown",
   "metadata": {},
   "source": [
    "# CAM Positive selection"
   ]
  },
  {
   "cell_type": "code",
   "execution_count": 9,
   "metadata": {},
   "outputs": [],
   "source": [
    "#Positive CAM-ICU\n",
    "feature1_pos = all_data_deli['CAM-ICU MS Change']==1\n",
    "feature2_pos = (all_data_deli['CAM-ICU Inattention']==1) | (all_data_deli['CAM-ICU Inattention']==4)\n",
    "feature3_pos = all_data_deli['CAM-ICU Altered LOC']==1\n",
    "feature4_pos = all_data_deli['CAM-ICU Disorganized thinking']==1\n",
    "cam_pos = all_data_deli[(feature1_pos&feature2_pos)&(feature3_pos|feature4_pos)]"
   ]
  },
  {
   "cell_type": "code",
   "execution_count": 10,
   "metadata": {},
   "outputs": [],
   "source": [
    "cam_pos = all_data_deli[(feature1_pos&feature2_pos)&(feature3_pos|feature4_pos)]"
   ]
  },
  {
   "cell_type": "code",
   "execution_count": null,
   "metadata": {},
   "outputs": [],
   "source": [
    "feature1_pos.sum(),feature2_pos.sum(),feature3_pos.sum(),feature4_pos.sum()"
   ]
  },
  {
   "cell_type": "code",
   "execution_count": null,
   "metadata": {},
   "outputs": [],
   "source": [
    "#Statistics of dataset\n",
    "print(\"ICU Stays with CAM positive {0}\" .format(cam_pos.ICUSTAY_ID.nunique()))\n",
    "print(\"Unique ICU Stays {0} \\n\" .format(all_data_deli.ICUSTAY_ID.nunique()))\n",
    "\n",
    "print(\"No. of records with CAM positive {0}\" .format(cam_pos.shape[0]))\n",
    "print(\"Total No. of records {0}\" .format(all_data_deli.shape[0]))"
   ]
  },
  {
   "cell_type": "code",
   "execution_count": null,
   "metadata": {},
   "outputs": [],
   "source": [
    "pos_id = cam_pos.ICUSTAY_ID.unique()\n",
    "cam_pos_df = all_data_deli[all_data_deli['ICUSTAY_ID'].isin(pos_id)]\n",
    "all_data_deli['CAM'] = np.nan\n",
    "((feature1_pos&feature2_pos)&(feature3_pos|feature4_pos)).sum()"
   ]
  },
  {
   "cell_type": "code",
   "execution_count": 14,
   "metadata": {},
   "outputs": [
    {
     "data": {
      "text/plain": [
       "0.0    618127\n",
       "1.0      5303\n",
       "Name: CAM, dtype: int64"
      ]
     },
     "execution_count": 14,
     "metadata": {},
     "output_type": "execute_result"
    }
   ],
   "source": [
    "all_data_deli.loc[((feature1_pos&feature2_pos)&(feature3_pos|feature4_pos)),'CAM']=1\n",
    "all_data_deli['CAM'].fillna(value=0,inplace=True)\n",
    "all_data_deli['CAM'].value_counts()"
   ]
  },
  {
   "cell_type": "code",
   "execution_count": 15,
   "metadata": {},
   "outputs": [
    {
     "data": {
      "text/plain": [
       "Index(['ICUSTAY_ID', 'BIN', 'HOURS', 'AGE', 'GENDER', 'Height', 'Weight',\n",
       "       'PATIENTWEIGHT', 'Oxygen Saturation', 'Heart Rate', 'Temperature C',\n",
       "       'Temperature F', 'WBC', 'Sodium', 'BUN', 'Glucose', 'direct bilirubin',\n",
       "       'Hemoglobin', 'Platelets', 'Potassium', 'Chloride', 'Bicarbonate',\n",
       "       'Creatinine', 'ALT', 'AST', 'Alkaline Phosphate', 'Delirium assessment',\n",
       "       'CAM-ICU MS Change', 'CAM-ICU Inattention', 'CAM-ICU Altered LOC',\n",
       "       'CAM-ICU Disorganized thinking', 'CAM-ICU RASS LOC', 'CAM'],\n",
       "      dtype='object')"
      ]
     },
     "execution_count": 15,
     "metadata": {},
     "output_type": "execute_result"
    }
   ],
   "source": [
    "all_data_deli.columns"
   ]
  },
  {
   "cell_type": "code",
   "execution_count": 16,
   "metadata": {},
   "outputs": [],
   "source": [
    "all_data_deli.loc[all_data_deli['Weight'].notnull(),'PATIENTWEIGHT'] = all_data_deli['Weight']"
   ]
  },
  {
   "cell_type": "code",
   "execution_count": 17,
   "metadata": {},
   "outputs": [],
   "source": [
    "def fahr_to_celsius(temp_fahr):\n",
    "    \"\"\"Convert Fahrenheit to Celsius\n",
    "    Return Celsius conversion of input\"\"\"\n",
    "    temp_celsius = (temp_fahr - 32) * 5 / 9\n",
    "    return temp_celsius"
   ]
  },
  {
   "cell_type": "code",
   "execution_count": null,
   "metadata": {},
   "outputs": [],
   "source": [
    "all_data_deli[\"Temperature F\"].describe()"
   ]
  },
  {
   "cell_type": "code",
   "execution_count": 19,
   "metadata": {},
   "outputs": [],
   "source": [
    "all_data_deli[\"Temperature F\"] = fahr_to_celsius(all_data_deli[\"Temperature F\"])"
   ]
  },
  {
   "cell_type": "code",
   "execution_count": null,
   "metadata": {},
   "outputs": [],
   "source": [
    "all_data_deli[\"Temperature F\"].describe()"
   ]
  },
  {
   "cell_type": "code",
   "execution_count": 21,
   "metadata": {},
   "outputs": [],
   "source": [
    "all_data_deli.loc[all_data_deli['Temperature F'].notnull(),'Temperature C'] = all_data_deli['Temperature F']"
   ]
  },
  {
   "cell_type": "code",
   "execution_count": null,
   "metadata": {},
   "outputs": [],
   "source": [
    "all_data_deli[['Temperature F','Temperature C']].describe()"
   ]
  },
  {
   "cell_type": "code",
   "execution_count": null,
   "metadata": {},
   "outputs": [],
   "source": [
    "all_data_deli[['PATIENTWEIGHT','Weight']].describe()"
   ]
  },
  {
   "cell_type": "code",
   "execution_count": null,
   "metadata": {},
   "outputs": [],
   "source": [
    "all_data_deli.head()"
   ]
  },
  {
   "cell_type": "code",
   "execution_count": null,
   "metadata": {},
   "outputs": [],
   "source": [
    "all_data_deli.BIN.describe()"
   ]
  },
  {
   "cell_type": "code",
   "execution_count": null,
   "metadata": {},
   "outputs": [],
   "source": [
    "all_data_deli[all_data_deli.BIN < 0].shape"
   ]
  },
  {
   "cell_type": "code",
   "execution_count": 30,
   "metadata": {},
   "outputs": [],
   "source": [
    "data_copy  = all_data_deli.copy()"
   ]
  },
  {
   "cell_type": "code",
   "execution_count": null,
   "metadata": {},
   "outputs": [],
   "source": [
    "data_copy.head()"
   ]
  },
  {
   "cell_type": "code",
   "execution_count": 32,
   "metadata": {},
   "outputs": [],
   "source": [
    "data_copy.rename(columns={\"ICUSTAY_ID\": \"patientunitstayid\", \"BIN\": \"itemoffset\",\n",
    "                          \"GENDER\": \"gender\",\"AGE\": \"age\",\"Height\": \"admissionheight\",\"PATIENTWEIGHT\": \"admissionweight\",\n",
    "                         \"Heart Rate\": \"Heart Rate\",\"Oxygen Saturation\": \"O2 Saturation\",\"Glucose\": \"glucose\",\"Temperature C\": \"Temperature (C)\",\n",
    "                         \"Sodium\": \"sodium\",\"BUN\": \"BUN\",\"WBC\": \"WBC x 1000\",\n",
    "                         \"Bilirubin\": \"direct bilirubin\"},inplace=True)"
   ]
  },
  {
   "cell_type": "code",
   "execution_count": 33,
   "metadata": {},
   "outputs": [],
   "source": [
    "def check(x):\n",
    "    try:\n",
    "        x = float(str(x).strip())\n",
    "    except:\n",
    "        x = np.nan\n",
    "    return x\n",
    "\n",
    "def check_itemvalue(df):\n",
    "    for c in df.columns:\n",
    "        df[c] = df[c].apply(lambda x: check(x))\n",
    "    return df"
   ]
  },
  {
   "cell_type": "markdown",
   "metadata": {},
   "source": [
    "# labelling"
   ]
  },
  {
   "cell_type": "code",
   "execution_count": null,
   "metadata": {},
   "outputs": [],
   "source": [
    "data_copy.columns"
   ]
  },
  {
   "cell_type": "code",
   "execution_count": 35,
   "metadata": {},
   "outputs": [],
   "source": [
    "order_columns = ['patientunitstayid','itemoffset', \n",
    "       'gender', 'age', 'admissionheight',\n",
    "       'admissionweight', 'Heart Rate', 'O2 Saturation', 'glucose', 'Temperature (C)',\n",
    "       'sodium','BUN', 'WBC x 1000', 'direct bilirubin',\n",
    "       'Hemoglobin','Platelets','Potassium', 'Chloride', 'Bicarbonate', 'Creatinine',\n",
    "       'ALT', 'AST', 'Alkaline Phosphate','CAM']"
   ]
  },
  {
   "cell_type": "code",
   "execution_count": 36,
   "metadata": {},
   "outputs": [],
   "source": [
    "data_copy = data_copy[data_copy['itemoffset'] > -7]\n",
    "label_deli = data_copy.copy()\n",
    "label_deli['labelrec'] = np.nan\n",
    "label_deli.loc[label_deli['CAM']==1,'labelrec']=1\n",
    "label_deli.loc[label_deli['CAM']==0,'labelrec']=0\n",
    "label_deli['labelpt'] = np.nan\n",
    "pos_cam_coh = label_deli[label_deli['labelrec']==1]['patientunitstayid'].unique()\n",
    "label_deli.loc[label_deli['patientunitstayid'].isin(pos_cam_coh), 'labelpt']=1\n",
    "label_deli.loc[~(label_deli['patientunitstayid'].isin(pos_cam_coh)), 'labelpt']=0"
   ]
  },
  {
   "cell_type": "code",
   "execution_count": null,
   "metadata": {},
   "outputs": [],
   "source": [
    "label_deli.groupby('patientunitstayid').count().shape"
   ]
  },
  {
   "cell_type": "markdown",
   "metadata": {},
   "source": [
    "# Add Sofa score to dataframe"
   ]
  },
  {
   "cell_type": "code",
   "execution_count": null,
   "metadata": {},
   "outputs": [],
   "source": [
    "data_copy = label_deli[order_columns]\n",
    "df_mimic = data_copy.copy()\n",
    "sofa = pd.read_csv(os.path.join(data_processed_path, 'mimic_pivoted_sofa.csv'))\n",
    "df_mimic['day'] = np.nan\n",
    "for i in range(-7,1000):\n",
    "    df_mimic.loc[((df_mimic['itemoffset'] <= i*24) & (df_mimic['itemoffset'] >= (i-1)*24)),'day'] = i  \n",
    "sofa.rename(columns={'icustay_id':'patientunitstayid'},inplace=True)\n",
    "set_sofa = set(sofa.patientunitstayid.unique())\n",
    "set_mimic = set(df_mimic.patientunitstayid.unique())\n",
    "inters = list(set_sofa.intersection(set_mimic))\n",
    "print(len(inters))\n",
    "new_df = pd.merge(df_mimic, sofa, how='left', left_on=['patientunitstayid','day'],right_on=['patientunitstayid','day'])"
   ]
  },
  {
   "cell_type": "code",
   "execution_count": null,
   "metadata": {},
   "outputs": [],
   "source": [
    "new_df.head()"
   ]
  },
  {
   "cell_type": "code",
   "execution_count": null,
   "metadata": {},
   "outputs": [],
   "source": [
    "new_df.columns"
   ]
  },
  {
   "cell_type": "markdown",
   "metadata": {},
   "source": [
    "## Add other variables to dataframe"
   ]
  },
  {
   "cell_type": "code",
   "execution_count": 41,
   "metadata": {},
   "outputs": [],
   "source": [
    "data_copy = new_df\n",
    "df_mimic = data_copy.copy()\n",
    "df_vent = pd.read_csv(os.path.join(data_processed_path, 'mimic_wes.csv'))\n",
    "df_vent.rename(columns={'icustay_id':'patientunitstayid'},inplace=True)\n",
    "new_df = pd.merge(df_mimic, df_vent, how='left',left_on=['patientunitstayid','itemoffset'],right_on=['patientunitstayid','hr'])"
   ]
  },
  {
   "cell_type": "code",
   "execution_count": null,
   "metadata": {},
   "outputs": [],
   "source": [
    "new_df.columns"
   ]
  },
  {
   "cell_type": "code",
   "execution_count": 43,
   "metadata": {},
   "outputs": [],
   "source": [
    "columns_order = ['patientunitstayid', 'itemoffset', 'gender', 'age', 'admissionheight',\n",
    "       'admissionweight', 'Heart Rate', 'O2 Saturation', 'glucose',\n",
    "       'Temperature (C)', 'sodium', 'BUN', 'WBC x 1000', 'direct bilirubin',\n",
    "       'Hemoglobin', 'Platelets', 'Potassium', 'Chloride', 'Bicarbonate',\n",
    "       'Creatinine', 'ALT', 'AST', 'Alkaline Phosphate', 'sofa', 'sofa_wo_gcs',\n",
    "       'vent_flag','rate_dopamine', 'rate_epinephrine', 'rate_norepinephrine',\n",
    "       'rate_phenylephrine', 'fluidin', 'fluidout','CAM']"
   ]
  },
  {
   "cell_type": "code",
   "execution_count": 44,
   "metadata": {},
   "outputs": [],
   "source": [
    "new_df = new_df[columns_order]"
   ]
  },
  {
   "cell_type": "markdown",
   "metadata": {},
   "source": [
    "## Imputation patient wise for weight and height"
   ]
  },
  {
   "cell_type": "code",
   "execution_count": 45,
   "metadata": {},
   "outputs": [],
   "source": [
    "for i in ['admissionheight','admissionweight']:\n",
    "    new_df[i] = new_df.groupby(\"patientunitstayid\")[i].transform(lambda v: v.ffill())\n",
    "    new_df[i] = new_df.groupby(\"patientunitstayid\")[i].transform(lambda v: v.bfill())"
   ]
  },
  {
   "cell_type": "markdown",
   "metadata": {},
   "source": [
    "# Missing values"
   ]
  },
  {
   "cell_type": "markdown",
   "metadata": {},
   "source": [
    "## record-wise"
   ]
  },
  {
   "cell_type": "code",
   "execution_count": null,
   "metadata": {
    "scrolled": false
   },
   "outputs": [],
   "source": [
    "import missingno as msno\n",
    "import seaborn as sns\n",
    "import matplotlib.pyplot as plt\n",
    "columns = columns_order \n",
    "percent_missing = new_df[columns].isnull().sum() * 100 / len(new_df)\n",
    "missing_value_df = pd.DataFrame({'column_name': columns,'percent_missing': percent_missing})\n",
    "missing_value_df.sort_values('percent_missing', inplace=True)\n",
    "missing_value_df.reset_index(inplace=True, drop=True)\n",
    "missing_value_df"
   ]
  },
  {
   "cell_type": "markdown",
   "metadata": {},
   "source": [
    "## Patient-wise"
   ]
  },
  {
   "cell_type": "code",
   "execution_count": null,
   "metadata": {},
   "outputs": [],
   "source": [
    "df_g = new_df[columns_order].groupby(\"patientunitstayid\").apply(lambda x: x.notnull().mean())\n",
    "\n",
    "for i in df_g.columns:\n",
    "    df_g[i] = df_g[i].replace({0:np.nan})\n",
    "\n",
    "    \n",
    "    #after Imputation\n",
    "import missingno as msno\n",
    "import seaborn as sns\n",
    "import matplotlib.pyplot as plt\n",
    "columns = df_g.columns\n",
    "percent_missing = df_g.isnull().sum() * 100 / len(df_g)\n",
    "missing_value_df = pd.DataFrame({'column_name': columns,'percent_missing': percent_missing})\n",
    "missing_value_df.sort_values('percent_missing', inplace=True)\n",
    "missing_value_df.reset_index(inplace=True, drop=True)\n",
    "missing_value_df"
   ]
  },
  {
   "cell_type": "markdown",
   "metadata": {},
   "source": [
    "# Correlation"
   ]
  },
  {
   "cell_type": "code",
   "execution_count": 48,
   "metadata": {},
   "outputs": [],
   "source": [
    "new_df.rename(index=str, columns={\"admissionheight\": \"Height\",\n",
    "                                  \"admissionweight\":\"Weight\",\n",
    "                                  \"glucose\" : \"Glucose\",\n",
    "                                  \"sodium\" : \"Sodium\",\n",
    "                                  \"vent_flag\" : \"Ventilation\",\n",
    "                                  \"rate_dopamine\" : \"Dopamine\",\n",
    "                                  \"rate_epinephrine\" : \"Epinephrine\",\n",
    "                                  \"rate_norepinephrine\":\"Norepinephrine\",\n",
    "                                  \"rate_phenylephrine\":\"Phenylephrine\",\n",
    "                                  \"gender\":\"Gender\",\n",
    "                                  \"sofa\":\"Sofa\",\n",
    "                                  \"sofa_wo_gcs\":\"Sofa_wo_gcs\",\n",
    "                                  \"Temperature (C)\" : \"Temperature\",\n",
    "                                  \"WBC x 1000\": \"WBC\",\n",
    "                                  \"age\":\"Age\"}, inplace=True)"
   ]
  },
  {
   "cell_type": "code",
   "execution_count": 49,
   "metadata": {},
   "outputs": [],
   "source": [
    "new_df['Epinephrine'].fillna(value=0,inplace=True)\n",
    "new_df['Norepinephrine'].fillna(value=0,inplace=True) \n",
    "new_df['Phenylephrine'].fillna(value=0,inplace=True)\n",
    "new_df['Dopamine'].fillna(value=0,inplace=True)\n"
   ]
  },
  {
   "cell_type": "code",
   "execution_count": 50,
   "metadata": {},
   "outputs": [],
   "source": [
    "new_df['Vasopressor dose'] = np.nan\n",
    "new_df['Vasopressor dose'] = new_df['Epinephrine']+new_df['Norepinephrine'] + new_df['Phenylephrine']/10 + new_df['Dopamine']/2\n",
    "new_df.drop(columns=['Epinephrine', 'Norepinephrine','Phenylephrine','Dopamine'],inplace=True)\n"
   ]
  },
  {
   "cell_type": "code",
   "execution_count": null,
   "metadata": {},
   "outputs": [],
   "source": [
    "new_df['Vasopressor dose'].notnull().sum()"
   ]
  },
  {
   "cell_type": "code",
   "execution_count": 52,
   "metadata": {},
   "outputs": [],
   "source": [
    "columns_for_corr = ['Age', 'Height',\n",
    "       'Weight', 'Heart Rate', 'O2 Saturation', 'Glucose',\n",
    "       'Temperature', 'Sodium', 'BUN', 'WBC', \n",
    "       'Hemoglobin', 'Platelets', 'Potassium', 'Chloride', 'Bicarbonate',\n",
    "       'Creatinine','Ventilation','Vasopressor dose','Gender','Sofa', 'Sofa_wo_gcs',  'CAM']"
   ]
  },
  {
   "cell_type": "code",
   "execution_count": null,
   "metadata": {},
   "outputs": [],
   "source": [
    "new_df['Vasopressor dose'].notnull().sum()"
   ]
  },
  {
   "cell_type": "code",
   "execution_count": null,
   "metadata": {},
   "outputs": [],
   "source": [
    "new_df[columns_for_corr].columns"
   ]
  },
  {
   "cell_type": "code",
   "execution_count": null,
   "metadata": {},
   "outputs": [],
   "source": [
    "import seaborn as sns\n",
    "import matplotlib.pyplot as plt\n",
    "\n",
    "colormap = plt.cm.RdBu\n",
    "\n",
    "mask = np.zeros(new_df[columns_for_corr].corr().shape, dtype=bool)\n",
    "mask[np.tril_indices(len(mask))] = True\n",
    "mask = ~mask\n",
    "\n",
    "plt.figure(figsize=(10,10))\n",
    "\n",
    "sns.set(font_scale=1.4)\n",
    "plt.title('Pearson Correlation of Features', y=1.05, size=15)\n",
    "\n",
    "sns.heatmap(new_df[columns_for_corr].corr(), mask = mask, linewidths=0.1,vmax=1.0, square=True, cmap=colormap, linecolor='white', annot=False)\n",
    "\n",
    "plt.savefig('mimic_corr.png',dpi=450, facecolor='white', bbox_inches = 'tight',transparent=True)\n",
    "plt.show()"
   ]
  },
  {
   "cell_type": "markdown",
   "metadata": {},
   "source": [
    "# Save not imputed data"
   ]
  },
  {
   "cell_type": "code",
   "execution_count": null,
   "metadata": {},
   "outputs": [],
   "source": [
    "los = pd.read_csv(os.path.join(mimic_path, 'ICUSTAYS.csv'))\n",
    "los = los[['ICUSTAY_ID','LOS']]\n",
    "los.head()\n",
    "los['LOS'] = los['LOS'] * 24\n",
    "los.rename(columns={\"ICUSTAY_ID\": \"patientunitstayid\"},inplace=True)\n",
    "new_df_los = pd.merge(new_df, los, how='left', left_on=['patientunitstayid'],right_on=['patientunitstayid'])\n",
    "print(new_df_los.patientunitstayid.nunique())\n",
    "new_df_los = new_df_los[new_df_los['LOS']>=24] #CHANGE TO 48\n",
    "new_df_los = new_df_los[new_df_los['itemoffset'] > 0] #CHANGE TO ZERO\n",
    "new_df_los_nodups = new_df_los.drop_duplicates()"
   ]
  },
  {
   "cell_type": "code",
   "execution_count": null,
   "metadata": {},
   "outputs": [],
   "source": [
    "new_df_los_nodups.groupby(\"patientunitstayid\").count().shape"
   ]
  },
  {
   "cell_type": "code",
   "execution_count": 48,
   "metadata": {},
   "outputs": [],
   "source": [
    "label_deli = new_df_los_nodups.copy()\n",
    "label_deli['labelrec'] = np.nan\n",
    "label_deli.loc[label_deli['CAM']==1,'labelrec']=1\n",
    "label_deli.loc[label_deli['CAM']==0,'labelrec']=0\n",
    "label_deli['labelpt'] = np.nan\n",
    "pos_cam_coh = label_deli[label_deli['labelrec']==1]['patientunitstayid'].unique()\n",
    "label_deli.loc[label_deli['patientunitstayid'].isin(pos_cam_coh), 'labelpt']=1\n",
    "label_deli.loc[~(label_deli['patientunitstayid'].isin(pos_cam_coh)), 'labelpt']=0\n",
    "pos_cam_df = label_deli[label_deli['labelpt']==1]\n",
    "neg_cam_df = label_deli[label_deli['labelpt']==0]\n",
    "pos_cam_df.reset_index(inplace=True)\n",
    "pos_cam_df = pos_cam_df.drop(columns=['index'])\n",
    "neg_cam_df.reset_index(inplace=True)\n",
    "neg_cam_df = neg_cam_df.drop(columns=['index'])\n",
    "pos_cam_df.to_csv(os.path.join(data_processed_path, 'pos_mimic_notimputed_24los.csv'), index=False)\n",
    "neg_cam_df.to_csv(os.path.join(data_processed_path, 'neg_mimic_notimputed_24los.csv'), index=False)"
   ]
  },
  {
   "cell_type": "markdown",
   "metadata": {},
   "source": [
    "# Imputation"
   ]
  },
  {
   "cell_type": "code",
   "execution_count": 60,
   "metadata": {},
   "outputs": [],
   "source": [
    "new_df = label_deli.copy()"
   ]
  },
  {
   "cell_type": "code",
   "execution_count": 61,
   "metadata": {},
   "outputs": [],
   "source": [
    "mean_columns = ['age', 'admissionheight','admissionweight']"
   ]
  },
  {
   "cell_type": "code",
   "execution_count": 62,
   "metadata": {},
   "outputs": [],
   "source": [
    "# mean Imputation of each patient\n",
    "for i in mean_columns:\n",
    "    new_df[i].fillna(new_df.groupby(\"patientunitstayid\")[i].transform('mean'),inplace=True)"
   ]
  },
  {
   "cell_type": "code",
   "execution_count": 63,
   "metadata": {},
   "outputs": [],
   "source": [
    "## Impute with mean of whole cohort\n",
    "for i in mean_columns:\n",
    "    new_df[i] = new_df[i].fillna(new_df[i].mean())"
   ]
  },
  {
   "cell_type": "code",
   "execution_count": null,
   "metadata": {},
   "outputs": [],
   "source": [
    "new_df.columns"
   ]
  },
  {
   "cell_type": "code",
   "execution_count": 65,
   "metadata": {},
   "outputs": [],
   "source": [
    "zero_columns = ['vent_flag', 'rate_dopamine', 'rate_epinephrine', 'rate_norepinephrine',\n",
    "       'rate_phenylephrine']"
   ]
  },
  {
   "cell_type": "code",
   "execution_count": 66,
   "metadata": {},
   "outputs": [],
   "source": [
    "new_df[zero_columns] = new_df[zero_columns].fillna(value=0)"
   ]
  },
  {
   "cell_type": "code",
   "execution_count": null,
   "metadata": {},
   "outputs": [],
   "source": [
    "# PATIENT WISE\n",
    "df_g = new_df[columns_order].groupby(\"patientunitstayid\").apply(lambda x: x.notnull().mean())\n",
    "for i in df_g.columns:\n",
    "    df_g[i] = df_g[i].replace({0:np.nan})\n",
    "import missingno as msno\n",
    "import seaborn as sns\n",
    "import matplotlib.pyplot as plt\n",
    "columns = df_g.columns\n",
    "percent_missing = df_g.isnull().sum() * 100 / len(df_g)\n",
    "missing_value_df = pd.DataFrame({'column_name': columns,'percent_missing': percent_missing})\n",
    "missing_value_df.sort_values('percent_missing', inplace=True)\n",
    "missing_value_df.reset_index(inplace=True, drop=True)\n",
    "missing_value_df"
   ]
  },
  {
   "cell_type": "markdown",
   "metadata": {},
   "source": [
    "# FFill"
   ]
  },
  {
   "cell_type": "code",
   "execution_count": 68,
   "metadata": {},
   "outputs": [],
   "source": [
    "forward_columns = ['Heart Rate', 'O2 Saturation', 'glucose',\n",
    "       'Temperature (C)', 'sodium', 'BUN', 'WBC x 1000', 'direct bilirubin',\n",
    "       'Hemoglobin', 'Platelets', 'Potassium', 'Chloride', 'Bicarbonate',\n",
    "       'Creatinine', 'ALT', 'AST', 'Alkaline Phosphate', 'sofa', 'sofa_wo_gcs','fluidin', 'fluidout']"
   ]
  },
  {
   "cell_type": "code",
   "execution_count": 69,
   "metadata": {},
   "outputs": [],
   "source": [
    "for i in forward_columns:\n",
    "    new_df[i] = new_df.groupby(\"patientunitstayid\")[i].transform(lambda v: v.ffill())"
   ]
  },
  {
   "cell_type": "code",
   "execution_count": null,
   "metadata": {},
   "outputs": [],
   "source": [
    "# PATIENT WISE\n",
    "\n",
    "df_g = new_df[columns_order].groupby(\"patientunitstayid\").apply(lambda x: x.notnull().mean())\n",
    "\n",
    "for i in df_g.columns:\n",
    "    df_g[i] = df_g[i].replace({0:np.nan})\n",
    "\n",
    "import missingno as msno\n",
    "import seaborn as sns\n",
    "import matplotlib.pyplot as plt\n",
    "columns = df_g.columns\n",
    "percent_missing = df_g.isnull().sum() * 100 / len(df_g)\n",
    "missing_value_df = pd.DataFrame({'column_name': columns,'percent_missing': percent_missing})\n",
    "missing_value_df.sort_values('percent_missing', inplace=True)\n",
    "missing_value_df.reset_index(inplace=True, drop=True)\n",
    "missing_value_df"
   ]
  },
  {
   "cell_type": "markdown",
   "metadata": {},
   "source": [
    "# BFill"
   ]
  },
  {
   "cell_type": "code",
   "execution_count": 72,
   "metadata": {},
   "outputs": [],
   "source": [
    "back_columns = forward_columns"
   ]
  },
  {
   "cell_type": "code",
   "execution_count": 73,
   "metadata": {},
   "outputs": [],
   "source": [
    "for i in back_columns:\n",
    "    new_df[i] = new_df.groupby(\"patientunitstayid\")[i].transform(lambda v: v.bfill())"
   ]
  },
  {
   "cell_type": "code",
   "execution_count": null,
   "metadata": {},
   "outputs": [],
   "source": [
    "#After Bfill\n",
    "df_g = new_df[columns_order].groupby(\"patientunitstayid\").apply(lambda x: x.notnull().mean())\n",
    "\n",
    "for i in df_g.columns:\n",
    "    df_g[i] = df_g[i].replace({0:np.nan})\n",
    "\n",
    "import missingno as msno\n",
    "import seaborn as sns\n",
    "import matplotlib.pyplot as plt\n",
    "columns = df_g.columns\n",
    "percent_missing = df_g.isnull().sum() * 100 / len(df_g)\n",
    "missing_value_df = pd.DataFrame({'column_name': columns,'percent_missing': percent_missing})\n",
    "missing_value_df.sort_values('percent_missing', inplace=True)\n",
    "missing_value_df.reset_index(inplace=True, drop=True)\n",
    "missing_value_df"
   ]
  },
  {
   "cell_type": "markdown",
   "metadata": {},
   "source": [
    "# Drop columns with high missing rate (ALT,AST,Alk Ph, Dir Bil)\n"
   ]
  },
  {
   "cell_type": "code",
   "execution_count": null,
   "metadata": {},
   "outputs": [],
   "source": [
    "new_df.drop(columns=['ALT', 'AST','Alkaline Phosphate','direct bilirubin','fluidin', 'fluidout'],inplace=True)\n",
    "print(new_df.patientunitstayid.nunique())\n",
    "print(new_df.shape)"
   ]
  },
  {
   "cell_type": "markdown",
   "metadata": {},
   "source": [
    "# Length of stay"
   ]
  },
  {
   "cell_type": "code",
   "execution_count": null,
   "metadata": {},
   "outputs": [],
   "source": [
    "los = pd.read_csv(os.path.join(mimic_path, 'ICUSTAYS.csv'))\n",
    "los = los[['ICUSTAY_ID','LOS']]\n",
    "los.head()\n",
    "los['LOS'] = los['LOS'] * 24\n",
    "los.rename(columns={\"ICUSTAY_ID\": \"patientunitstayid\"},inplace=True)\n",
    "new_df_los = pd.merge(new_df, los, how='left', left_on=['patientunitstayid'],right_on=['patientunitstayid'])\n",
    "print(new_df_los.patientunitstayid.nunique())\n",
    "new_df_los = new_df_los[new_df_los['LOS']>=24] #CHANGE TO 48\n",
    "new_df_los = new_df_los[new_df_los['itemoffset'] > 0] #CHANGE TO ZERO\n",
    "new_df_los_nodups = new_df_los.drop_duplicates()"
   ]
  },
  {
   "cell_type": "markdown",
   "metadata": {},
   "source": [
    "## LOS at least 24/48 hours"
   ]
  },
  {
   "cell_type": "markdown",
   "metadata": {},
   "source": [
    "### Missing values"
   ]
  },
  {
   "cell_type": "code",
   "execution_count": 81,
   "metadata": {},
   "outputs": [],
   "source": [
    "columns_order = ['patientunitstayid', 'itemoffset', 'gender', 'age', 'admissionheight',\n",
    "       'admissionweight', 'Heart Rate', 'O2 Saturation', 'glucose',\n",
    "       'Temperature (C)', 'sodium', 'BUN', 'WBC x 1000', 'Hemoglobin',\n",
    "        'Platelets', 'Potassium', 'Chloride', 'Bicarbonate',\n",
    "       'Creatinine', 'sofa', 'sofa_wo_gcs',\n",
    "       'vent_flag','rate_dopamine', 'rate_epinephrine', 'rate_norepinephrine',\n",
    "       'rate_phenylephrine', 'LOS','CAM']"
   ]
  },
  {
   "cell_type": "code",
   "execution_count": null,
   "metadata": {},
   "outputs": [],
   "source": [
    "df_g = new_df_los_nodups[columns_order].groupby(\"patientunitstayid\").apply(lambda x: x.notnull().mean())\n",
    "for i in df_g.columns:\n",
    "    df_g[i] = df_g[i].replace({0:np.nan})\n",
    "#after Imputation\n",
    "import missingno as msno\n",
    "import seaborn as sns\n",
    "import matplotlib.pyplot as plt\n",
    "columns = df_g.columns\n",
    "percent_missing = df_g.isnull().sum() * 100 / len(df_g)\n",
    "missing_value_df = pd.DataFrame({'column_name': columns,'percent_missing': percent_missing})\n",
    "missing_value_df.sort_values('percent_missing', inplace=True)\n",
    "missing_value_df.reset_index(inplace=True, drop=True)\n",
    "missing_value_df"
   ]
  },
  {
   "cell_type": "markdown",
   "metadata": {},
   "source": [
    "# Drop Patients with missing values"
   ]
  },
  {
   "cell_type": "code",
   "execution_count": 83,
   "metadata": {},
   "outputs": [],
   "source": [
    "new_df_los_nodups.dropna(subset=['Heart Rate', 'O2 Saturation', 'glucose',\n",
    "       'Temperature (C)', 'sodium', 'BUN', 'WBC x 1000', 'Hemoglobin',\n",
    "       'Platelets', 'Potassium', 'Chloride', 'Bicarbonate', 'Creatinine',\n",
    "       'sofa', 'sofa_wo_gcs', 'vent_flag', 'rate_dopamine', 'rate_epinephrine',\n",
    "       'rate_norepinephrine', 'rate_phenylephrine'],inplace=True)"
   ]
  },
  {
   "cell_type": "code",
   "execution_count": null,
   "metadata": {},
   "outputs": [],
   "source": [
    "new_df_los_nodups.shape"
   ]
  },
  {
   "cell_type": "code",
   "execution_count": null,
   "metadata": {},
   "outputs": [],
   "source": [
    "new_df_los_nodups.patientunitstayid.nunique()"
   ]
  },
  {
   "cell_type": "markdown",
   "metadata": {},
   "source": [
    "### split CAM pos and CAM neg"
   ]
  },
  {
   "cell_type": "code",
   "execution_count": 87,
   "metadata": {},
   "outputs": [],
   "source": [
    "label_deli = new_df_los_nodups.copy()\n",
    "label_deli['labelrec'] = np.nan\n",
    "label_deli.loc[label_deli['CAM']==1,'labelrec']=1\n",
    "label_deli.loc[label_deli['CAM']==0,'labelrec']=0\n",
    "label_deli['labelpt'] = np.nan"
   ]
  },
  {
   "cell_type": "code",
   "execution_count": 88,
   "metadata": {},
   "outputs": [],
   "source": [
    "pos_cam_coh = label_deli[label_deli['labelrec']==1]['patientunitstayid'].unique()\n",
    "label_deli.loc[label_deli['patientunitstayid'].isin(pos_cam_coh), 'labelpt']=1\n",
    "label_deli.loc[~(label_deli['patientunitstayid'].isin(pos_cam_coh)), 'labelpt']=0"
   ]
  },
  {
   "cell_type": "code",
   "execution_count": null,
   "metadata": {},
   "outputs": [],
   "source": [
    "label_deli.tail(1)"
   ]
  },
  {
   "cell_type": "code",
   "execution_count": 90,
   "metadata": {},
   "outputs": [],
   "source": [
    "pos_cam_df = label_deli[label_deli['labelpt']==1]\n",
    "neg_cam_df = label_deli[label_deli['labelpt']==0]\n",
    "pos_cam_df.reset_index(inplace=True)\n",
    "pos_cam_df = pos_cam_df.drop(columns=['index'])\n",
    "\n",
    "neg_cam_df.reset_index(inplace=True)\n",
    "neg_cam_df = neg_cam_df.drop(columns=['index'])"
   ]
  },
  {
   "cell_type": "code",
   "execution_count": null,
   "metadata": {},
   "outputs": [],
   "source": [
    "pos_cam_df['patientunitstayid'].nunique(),neg_cam_df['patientunitstayid'].nunique()"
   ]
  },
  {
   "cell_type": "code",
   "execution_count": 92,
   "metadata": {},
   "outputs": [],
   "source": [
    "neg_cam_df['CAM'] = neg_cam_df['labelpt']\n",
    "pos_cam_df['CAM'] = pos_cam_df['labelpt']"
   ]
  },
  {
   "cell_type": "code",
   "execution_count": 93,
   "metadata": {},
   "outputs": [],
   "source": [
    "pos_cam_df.to_csv(os.path.join(data_processed_path, 'pos_mimic_imputed_24los.csv'), index=False)\n",
    "neg_cam_df.to_csv(os.path.join(data_processed_path, 'neg_mimic_imputed_24los.csv'), index=False)"
   ]
  },
  {
   "cell_type": "code",
   "execution_count": 94,
   "metadata": {},
   "outputs": [],
   "source": [
    "mimic_df = pd.concat([neg_cam_df, pos_cam_df],axis=0)"
   ]
  },
  {
   "cell_type": "code",
   "execution_count": null,
   "metadata": {},
   "outputs": [],
   "source": [
    "mimic_df.patientunitstayid.nunique()"
   ]
  }
 ],
 "metadata": {
  "kernelspec": {
   "display_name": "Python 3",
   "language": "python",
   "name": "python3"
  },
  "language_info": {
   "codemirror_mode": {
    "name": "ipython",
    "version": 3
   },
   "file_extension": ".py",
   "mimetype": "text/x-python",
   "name": "python",
   "nbconvert_exporter": "python",
   "pygments_lexer": "ipython3",
   "version": "3.6.8"
  }
 },
 "nbformat": 4,
 "nbformat_minor": 2
}
