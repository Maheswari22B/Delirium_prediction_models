{
 "cells": [
  {
   "cell_type": "markdown",
   "metadata": {},
   "source": [
    "https://github.com/MIT-LCP/mimic-omop/blob/master/extras/concept/chart_label_to_concept.csv\n",
    "https://github.com/YerevaNN/mimic3-benchmarks/blob/master/mimic3benchmark/resources/itemid_to_variable_map.csv"
   ]
  },
  {
   "cell_type": "code",
   "execution_count": 2,
   "metadata": {},
   "outputs": [],
   "source": [
    "from __future__ import absolute_import\n",
    "from __future__ import print_function\n",
    "import pandas as pd\n",
    "import csv\n",
    "import sys\n",
    "import os\n",
    "import numpy as np\n",
    "import shutil\n",
    "pd.set_option('display.max_columns', 500)\n",
    "\n",
    "def dataframe_from_csv(path, header=0, index_col=False):\n",
    "    return pd.read_csv(path, header=header, index_col=index_col)\n",
    "\n",
    "\n",
    "mimic_path = \"The directory including mimic-iii csv files\"\n",
    "path_csv = 'The directory to save the csv data'\n",
    "data_path = 'The directory to save single patient records'"
   ]
  },
  {
   "cell_type": "markdown",
   "metadata": {},
   "source": [
    "# Patient"
   ]
  },
  {
   "cell_type": "code",
   "execution_count": 5,
   "metadata": {},
   "outputs": [],
   "source": [
    "patient = dataframe_from_csv(os.path.join(mimic_path, 'PATIENTS.csv'),index_col=False)\n",
    "patient.drop(columns=['ROW_ID', 'DOD', 'DOD_HOSP', 'DOD_SSN', 'EXPIRE_FLAG'], inplace=True)"
   ]
  },
  {
   "cell_type": "code",
   "execution_count": 57,
   "metadata": {},
   "outputs": [
    {
     "data": {
      "text/plain": [
       "(46520, 3)"
      ]
     },
     "execution_count": 57,
     "metadata": {},
     "output_type": "execute_result"
    }
   ],
   "source": [
    "patient.groupby(['SUBJECT_ID']).head(1).shape"
   ]
  },
  {
   "cell_type": "markdown",
   "metadata": {},
   "source": [
    "# ICU-Stay"
   ]
  },
  {
   "cell_type": "code",
   "execution_count": 16,
   "metadata": {},
   "outputs": [],
   "source": [
    "icu = dataframe_from_csv(os.path.join(mimic_path, 'ICUSTAYS.csv'),index_col=False)\n",
    "icu.drop(columns=['ROW_ID', 'FIRST_CAREUNIT', 'LAST_CAREUNIT', 'FIRST_WARDID', 'LAST_WARDID', 'DBSOURCE'], inplace=True)"
   ]
  },
  {
   "cell_type": "code",
   "execution_count": null,
   "metadata": {},
   "outputs": [],
   "source": [
    "icu.shape"
   ]
  },
  {
   "cell_type": "code",
   "execution_count": null,
   "metadata": {},
   "outputs": [],
   "source": [
    "icu.groupby(['SUBJECT_ID']).head(1).shape"
   ]
  },
  {
   "cell_type": "markdown",
   "metadata": {},
   "source": [
    "# Filter ICU Stays on Age"
   ]
  },
  {
   "cell_type": "code",
   "execution_count": 93,
   "metadata": {},
   "outputs": [],
   "source": [
    "patient_icu = pd.merge(icu, patient, on='SUBJECT_ID')"
   ]
  },
  {
   "cell_type": "code",
   "execution_count": null,
   "metadata": {},
   "outputs": [],
   "source": [
    "patient_icu.groupby(['SUBJECT_ID']).head(1).shape"
   ]
  },
  {
   "cell_type": "code",
   "execution_count": null,
   "metadata": {},
   "outputs": [],
   "source": [
    "patient_icu.groupby(['HADM_ID']).head(1).shape"
   ]
  },
  {
   "cell_type": "code",
   "execution_count": null,
   "metadata": {},
   "outputs": [],
   "source": [
    "patient_icu.shape"
   ]
  },
  {
   "cell_type": "code",
   "execution_count": 97,
   "metadata": {},
   "outputs": [],
   "source": [
    "patient_icu['DOBYear'] = pd.to_datetime(patient_icu['DOB'], format= \"%Y-%m-%d\")\n",
    "patient_icu['DOBYear'] = patient_icu.DOBYear.dt.year\n",
    "patient_icu['INTIMEYear'] = pd.to_datetime(patient_icu['INTIME'], format= \"%Y-%m-%d\")\n",
    "patient_icu['INTIMEYear'] = patient_icu.INTIMEYear.dt.year\n",
    "patient_icu['AGE'] = patient_icu['INTIMEYear'] - patient_icu['DOBYear']\n",
    "patient_icu.drop(columns=['DOBYear', 'INTIMEYear', 'DOB'], inplace=True)"
   ]
  },
  {
   "cell_type": "code",
   "execution_count": 98,
   "metadata": {},
   "outputs": [],
   "source": [
    "patient_icu_under_1 = patient_icu[patient_icu.AGE <= 1]"
   ]
  },
  {
   "cell_type": "code",
   "execution_count": null,
   "metadata": {},
   "outputs": [],
   "source": [
    "patient_icu_under_1.groupby(['SUBJECT_ID']).head(1).shape"
   ]
  },
  {
   "cell_type": "code",
   "execution_count": null,
   "metadata": {},
   "outputs": [],
   "source": [
    "patient_icu_under_1.shape"
   ]
  },
  {
   "cell_type": "code",
   "execution_count": 101,
   "metadata": {},
   "outputs": [],
   "source": [
    "patient_icu_adults = patient_icu[(patient_icu.AGE >= 18) & (patient_icu.AGE <= 89)]"
   ]
  },
  {
   "cell_type": "code",
   "execution_count": null,
   "metadata": {},
   "outputs": [],
   "source": [
    "patient_icu_adults.groupby(['SUBJECT_ID']).head(1).shape"
   ]
  },
  {
   "cell_type": "code",
   "execution_count": null,
   "metadata": {},
   "outputs": [],
   "source": [
    "patient_icu_adults.shape"
   ]
  },
  {
   "cell_type": "code",
   "execution_count": null,
   "metadata": {},
   "outputs": [],
   "source": [
    "patient_icu = patient_icu[(patient_icu.AGE >= 18) & (patient_icu.AGE <= 89)]"
   ]
  },
  {
   "cell_type": "markdown",
   "metadata": {},
   "source": [
    "# Admission"
   ]
  },
  {
   "cell_type": "code",
   "execution_count": 15,
   "metadata": {},
   "outputs": [],
   "source": [
    "admission = dataframe_from_csv(os.path.join(mimic_path, 'ADMISSIONS.csv'),index_col=False)\n",
    "admission.drop(columns=['ROW_ID','ADMITTIME', 'DISCHTIME', 'DEATHTIME', 'ADMISSION_TYPE', 'ADMISSION_LOCATION',\n",
    "                        'DISCHARGE_LOCATION', 'EDREGTIME', 'EDOUTTIME', 'HAS_CHARTEVENTS_DATA', 'HOSPITAL_EXPIRE_FLAG',\n",
    "                        'INSURANCE', 'LANGUAGE', 'RELIGION', 'MARITAL_STATUS'], inplace=True)"
   ]
  },
  {
   "cell_type": "code",
   "execution_count": null,
   "metadata": {},
   "outputs": [],
   "source": [
    "admission.head()"
   ]
  },
  {
   "cell_type": "code",
   "execution_count": null,
   "metadata": {},
   "outputs": [],
   "source": [
    "admission.shape"
   ]
  },
  {
   "cell_type": "markdown",
   "metadata": {},
   "source": [
    "# Full ICUStays Information"
   ]
  },
  {
   "cell_type": "code",
   "execution_count": 18,
   "metadata": {},
   "outputs": [],
   "source": [
    "adm_pat_icu = pd.merge(patient_icu, admission, on='HADM_ID')"
   ]
  },
  {
   "cell_type": "code",
   "execution_count": 19,
   "metadata": {},
   "outputs": [],
   "source": [
    "adm_pat_icu.drop(columns=['SUBJECT_ID_y'], inplace=True)\n",
    "col = ['SUBJECT_ID_x', 'HADM_ID', 'ICUSTAY_ID', 'GENDER', 'AGE', 'LOS', 'INTIME', 'OUTTIME', 'DIAGNOSIS','ETHNICITY']\n",
    "adm_pat_icu = adm_pat_icu[col]\n",
    "adm_pat_icu.columns = ['SUBJECT_ID', 'HADM_ID', 'ICUSTAY_ID', 'GENDER', 'AGE', 'LOS', 'INTIME', 'OUTTIME', \n",
    "                       'DIAGNOSIS', 'ETHNICITY']"
   ]
  },
  {
   "cell_type": "code",
   "execution_count": 20,
   "metadata": {},
   "outputs": [],
   "source": [
    "g_map = {'F': 1, 'M': 2}\n",
    "def transform_gender(gender_series):\n",
    "    global g_map\n",
    "    return {'GENDER': gender_series.fillna('').apply(lambda s: g_map[s] if s in g_map else g_map[''])}"
   ]
  },
  {
   "cell_type": "code",
   "execution_count": 21,
   "metadata": {},
   "outputs": [],
   "source": [
    "adm_pat_icu.update(transform_gender(adm_pat_icu.GENDER))"
   ]
  },
  {
   "cell_type": "code",
   "execution_count": 22,
   "metadata": {},
   "outputs": [],
   "source": [
    "def transform_dx_into_id(df):\n",
    "    df.DIAGNOSIS.fillna('nodx', inplace=True)\n",
    "    dx_type = df.DIAGNOSIS.unique()\n",
    "    dict_dx_key = pd.factorize(dx_type)[1]\n",
    "    dict_dx_val = pd.factorize(dx_type)[0]\n",
    "    dictionary  = dict(zip(dict_dx_key, dict_dx_val))\n",
    "    df['DIAGNOSIS'] = df['DIAGNOSIS'].map(dictionary)\n",
    "    return df"
   ]
  },
  {
   "cell_type": "code",
   "execution_count": 23,
   "metadata": {},
   "outputs": [],
   "source": [
    "adm_pat_icu = transform_dx_into_id(adm_pat_icu)"
   ]
  },
  {
   "cell_type": "code",
   "execution_count": 24,
   "metadata": {},
   "outputs": [],
   "source": [
    "def transform_ethn_into_id(df):\n",
    "    df.ETHNICITY.fillna('nodx', inplace=True)\n",
    "    dx_type = df.ETHNICITY.unique()\n",
    "    dict_dx_key = pd.factorize(dx_type)[1]\n",
    "    dict_dx_val = pd.factorize(dx_type)[0]\n",
    "    dictionary  = dict(zip(dict_dx_key, dict_dx_val))\n",
    "    df['ETHNICITY'] = df['ETHNICITY'].map(dictionary)\n",
    "    return df"
   ]
  },
  {
   "cell_type": "code",
   "execution_count": 25,
   "metadata": {},
   "outputs": [],
   "source": [
    "adm_pat_icu = transform_ethn_into_id(adm_pat_icu)"
   ]
  },
  {
   "cell_type": "code",
   "execution_count": null,
   "metadata": {},
   "outputs": [],
   "source": [
    "adm_pat_icu.head()"
   ]
  },
  {
   "cell_type": "code",
   "execution_count": null,
   "metadata": {},
   "outputs": [],
   "source": [
    "adm_pat_icu.shape"
   ]
  },
  {
   "cell_type": "markdown",
   "metadata": {},
   "source": [
    "# Chart"
   ]
  },
  {
   "cell_type": "code",
   "execution_count": null,
   "metadata": {},
   "outputs": [],
   "source": [
    "chart = dataframe_from_csv(os.path.join(mimic_path, 'CHARTEVENTS.csv'),index_col=False)\n",
    "chart.drop(columns=['ROW_ID', 'SUBJECT_ID', 'HADM_ID', 'STORETIME', 'CGID', 'RESULTSTATUS', 'STOPPED',\n",
    "                    'WARNING', 'ERROR'], inplace=True)\n",
    "chart = chart.ix[chart.ICUSTAY_ID.notnull()]\n",
    "chart[['ICUSTAY_ID']] = chart[['ICUSTAY_ID']].astype(int)"
   ]
  },
  {
   "cell_type": "markdown",
   "metadata": {},
   "source": [
    "# Find ICUStays with Delirium"
   ]
  },
  {
   "cell_type": "code",
   "execution_count": null,
   "metadata": {
    "scrolled": false
   },
   "outputs": [],
   "source": [
    "items = [228300, 228301, 228302, 228303, 228332, 228334, 228335, 228336, 228337]\n",
    "delirium = chart[chart.ITEMID.isin(items)]\n",
    "delirium[['ICUSTAY_ID']] = delirium[['ICUSTAY_ID']].astype(int)\n",
    "icustay_delirium = delirium.ICUSTAY_ID.unique()\n",
    "chart = chart[chart['ICUSTAY_ID'].isin(icustay_delirium)]"
   ]
  },
  {
   "cell_type": "code",
   "execution_count": null,
   "metadata": {},
   "outputs": [],
   "source": [
    "delirium.VALUE.unique()"
   ]
  },
  {
   "cell_type": "markdown",
   "metadata": {},
   "source": [
    "# D_ITEM - LABEL for other Tables"
   ]
  },
  {
   "cell_type": "code",
   "execution_count": 32,
   "metadata": {},
   "outputs": [],
   "source": [
    "d_item = dataframe_from_csv(os.path.join(mimic_path, 'D_ITEMS.csv'),index_col=False)\n",
    "d_item.drop(columns=['ABBREVIATION', 'CATEGORY', 'UNITNAME', 'CONCEPTID', 'ROW_ID', 'DBSOURCE', 'LINKSTO',\n",
    "                     'PARAM_TYPE'], inplace=True) "
   ]
  },
  {
   "cell_type": "code",
   "execution_count": null,
   "metadata": {
    "scrolled": true
   },
   "outputs": [],
   "source": [
    "d_item.head()"
   ]
  },
  {
   "cell_type": "markdown",
   "metadata": {},
   "source": [
    "# Add Item_id to chart "
   ]
  },
  {
   "cell_type": "code",
   "execution_count": 34,
   "metadata": {},
   "outputs": [],
   "source": [
    "chart = pd.merge(chart, d_item, on='ITEMID')"
   ]
  },
  {
   "cell_type": "code",
   "execution_count": null,
   "metadata": {},
   "outputs": [],
   "source": [
    "chart.head()"
   ]
  },
  {
   "cell_type": "code",
   "execution_count": 36,
   "metadata": {},
   "outputs": [
    {
     "data": {
      "text/plain": [
       "(39657694, 7)"
      ]
     },
     "execution_count": 36,
     "metadata": {},
     "output_type": "execute_result"
    }
   ],
   "source": [
    "chart.shape"
   ]
  },
  {
   "cell_type": "code",
   "execution_count": 37,
   "metadata": {},
   "outputs": [],
   "source": [
    "chart.to_csv(os.path.join(data_path, 'chartevent.csv'),index=False)"
   ]
  },
  {
   "cell_type": "markdown",
   "metadata": {},
   "source": [
    "# Load Chart with Delirium ICU_Stays"
   ]
  },
  {
   "cell_type": "code",
   "execution_count": null,
   "metadata": {},
   "outputs": [],
   "source": [
    "chart = pd.read_csv(os.path.join(path_csv,'chartevent.csv'))"
   ]
  },
  {
   "cell_type": "markdown",
   "metadata": {},
   "source": [
    "# ICU-Stay shared between admission and chart "
   ]
  },
  {
   "cell_type": "code",
   "execution_count": 39,
   "metadata": {},
   "outputs": [],
   "source": [
    "icu_adm = adm_pat_icu.ICUSTAY_ID.unique()\n",
    "icu_chart = chart.ICUSTAY_ID.unique()"
   ]
  },
  {
   "cell_type": "code",
   "execution_count": 40,
   "metadata": {},
   "outputs": [],
   "source": [
    "def intersection(lst1, lst2): \n",
    "    lst3 = list(set(lst1).intersection(set(lst2)))\n",
    "    return lst3 "
   ]
  },
  {
   "cell_type": "code",
   "execution_count": 41,
   "metadata": {},
   "outputs": [],
   "source": [
    "icustay_delirium = intersection(icu_adm, icu_chart)"
   ]
  },
  {
   "cell_type": "code",
   "execution_count": 42,
   "metadata": {},
   "outputs": [],
   "source": [
    "chart = chart[chart['ICUSTAY_ID'].isin(icustay_delirium)]"
   ]
  },
  {
   "cell_type": "code",
   "execution_count": 43,
   "metadata": {},
   "outputs": [],
   "source": [
    "chart.loc[chart['VALUE'] == 'No'       , 'VALUENUM'] = 0\n",
    "chart.loc[chart['VALUE'] == 'Negative' , 'VALUENUM'] = 0\n",
    "chart.loc[chart['VALUE'] == 'No (Stop - Not delirious)' , 'VALUENUM'] = 0\n",
    "chart.loc[chart['VALUE'] == 'Yes'     , 'VALUENUM'] = 1\n",
    "chart.loc[chart['VALUE'] == 'Positive', 'VALUENUM'] = 1\n",
    "chart.loc[chart['VALUE'] == 'Yes (Continue)', 'VALUENUM'] = 1\n",
    "chart.loc[chart['VALUE'] == 'UTA'             , 'VALUENUM'] = 2\n",
    "chart.loc[chart['VALUE'] == 'Unable to Assess', 'VALUENUM'] = 2\n",
    "chart.loc[chart['VALUE'] == 'Unable to Assess (Stop)', 'VALUENUM'] = 2\n",
    "chart.loc[chart['VALUE'] == 'No (less than 3 errors - Stop - Not delirious)', 'VALUENUM'] = 3\n",
    "chart.loc[chart['VALUE'] == 'Yes (3 or more errors, then Continue)', 'VALUENUM'] = 4"
   ]
  },
  {
   "cell_type": "code",
   "execution_count": null,
   "metadata": {},
   "outputs": [],
   "source": [
    "chart.drop(columns=['VALUE'], inplace=True)\n",
    "chart = chart.ix[chart.VALUENUM.notnull()]"
   ]
  },
  {
   "cell_type": "code",
   "execution_count": 45,
   "metadata": {},
   "outputs": [],
   "source": [
    "chart.CHARTTIME = pd.to_datetime(chart.CHARTTIME)\n",
    "chart.VALUEUOM = chart.VALUEUOM.fillna('').astype(str)\n",
    "col = ['ICUSTAY_ID', 'ITEMID', 'LABEL', 'VALUENUM', 'VALUEUOM', 'CHARTTIME']\n",
    "chart = chart[col]\n",
    "chart.columns = ['ICUSTAY_ID', 'ITEMID', 'LABEL', 'VALUE', 'VALUEUOM', 'CHARTTIME']\n",
    "chart[['ICUSTAY_ID']] = chart[['ICUSTAY_ID']].astype(int)"
   ]
  },
  {
   "cell_type": "code",
   "execution_count": 46,
   "metadata": {},
   "outputs": [],
   "source": [
    "def check(x):\n",
    "    try:\n",
    "        x = float(str(x).strip())\n",
    "    except:\n",
    "        x = np.nan\n",
    "    return x\n",
    "def check_itemvalue(df):\n",
    "    df['VALUE'] = df['VALUE'].apply(lambda x: check(x))\n",
    "    df['VALUE'] = df.VALUE.astype(float)\n",
    "    return df"
   ]
  },
  {
   "cell_type": "code",
   "execution_count": null,
   "metadata": {},
   "outputs": [],
   "source": [
    "chart = check_itemvalue(chart)\n",
    "chart = chart.ix[chart.VALUE.notnull()]"
   ]
  },
  {
   "cell_type": "code",
   "execution_count": 50,
   "metadata": {},
   "outputs": [],
   "source": [
    "chart_features = [ \n",
    "       'Delirium assessment',\n",
    "       'CAM-ICU Inattention',\n",
    "       'CAM-ICU Altered LOC',\n",
    "       'CAM-ICU MS Change',\n",
    "       'CAM-ICU MS change',\n",
    "       'CAM-ICU RASS LOC',\n",
    "       'CAM-ICU Disorganized thinking',\n",
    "       'Admission Weight (Kg)' , 'Admission Weight (lbs.)', #Weight\n",
    "       'Height (cm)', 'Admit Ht', 'Height Inches', 'Length Calc Inches', 'Length in Inches', \n",
    "       'Length Calc (cm)', 'Length in cm', #Height\n",
    "       'O2 saturation pulseoxymetry', 'Arterial O2 Saturation', 'SpO2', # O2 Saturation\n",
    "       'Heart Rate', #Heart\n",
    "       'Temperature Fahrenheit', 'Temperature F', 'Temperature F (calc)', #Temperature\n",
    "       'Temperature C (calc)', 'Temperature C', 'Temperature Celsius', #Temperatur\n",
    "       'BUN', 'BUN (6-20)', #BUN\n",
    "       'Glucose','Glucose (serum)','Glucose finger stick','Glucose (whole blood)','Glucose (70-105)',\n",
    "       'Fingerstick Glucose', #Glucose\n",
    "       'Hemoglobin', # serum hemoglobin\n",
    "       'Platelets', #Platelets  \n",
    "       'Inspired O2 Fraction', 'FiO2', # FiO2\n",
    "       'Richmond-RAS Scale', 'Goal Richmond-RAS Scale', # Sedation Scor\n",
    "       'Non Invasive Blood Pressure systolic', 'NBP [Systolic]',\n",
    "       'Non Invasive Blood Pressure diastolic', 'NBP [Diastolic]',\n",
    "       'Non Invasive Blood Pressure mean', 'NBP Mean',\n",
    "       'Arterial Blood Pressure mean', 'Arterial BP Mean', 'ART BP mean',\n",
    "       'Arterial Blood Pressure systolic', 'ART BP Systolic', 'Arterial BP [Systolic]',\n",
    "       'Arterial Blood Pressure diastolic', 'Arterial BP [Diastolic]', 'ART BP Diastolic',\n",
    "       'Arterial O2 pressure', 'Arterial PaO2', 'PAO2', #PaO2\n",
    "       'Arterial CO2 Pressure', 'Arterial PaCO2', 'pCO2', 'pCO2 (other)', 'PCO2', 'Arterial PaCO2', #PaCo2\n",
    "       'Respiratory Rate', #Respiratory    \n",
    "       'PH (Arterial)','Arterial pH', 'Art.pH', 'pH (Art)', #pH      \n",
    "       'GCS Total',\n",
    "       'GCS - Eye Opening', 'Eye Opening',\n",
    "       'GCS - Motor Response', 'Motor Response',\n",
    "       'GCS - Verbal Response', 'Verbal Response',\n",
    "       'TSH NML(0.27-4.2)', 'TSH  (NML 0.27-4.2)', #TSH\n",
    "       'Serum Osmolality',\n",
    "       'Ammonia', 'ammonia', 'AMMONIA', 'AMMONIA/12-47 UMOL/L',\n",
    "       'Cortisol', 'cortisol',\n",
    "       'ETCO2', 'EtCO2', 'EtCO2 Clinical indication',\n",
    "       'dexmedetomidine', 'Dexmedetomidine',\n",
    "       'Morphine Sulfate',\n",
    "       'propofol', 'Propofol (Intubation)',\n",
    "       'Midazolam/Versed', 'Midazolam',\n",
    "       'Lorazepam/Ativan',\n",
    "       'Fentanyl', 'fentanyl mg/hr', 'Fentanyl:', 'fentanyl',\n",
    "       'Cardiac Index', 'CI (PiCCO)', 'Cardiac Index (CI NICOM)', 'cardiac index o',  #CI\n",
    "       'Intra Cranial Pressure', 'Intra Cranial Pressure #2' ]\n"
   ]
  },
  {
   "cell_type": "code",
   "execution_count": 51,
   "metadata": {},
   "outputs": [],
   "source": [
    "chart = chart[chart['LABEL'].isin(chart_features)]"
   ]
  },
  {
   "cell_type": "code",
   "execution_count": 52,
   "metadata": {},
   "outputs": [
    {
     "data": {
      "text/plain": [
       "(7005, 6)"
      ]
     },
     "execution_count": 52,
     "metadata": {},
     "output_type": "execute_result"
    }
   ],
   "source": [
    "chart[chart['LABEL'] == 'Admission Weight (Kg)'].shape"
   ]
  },
  {
   "cell_type": "code",
   "execution_count": 53,
   "metadata": {},
   "outputs": [],
   "source": [
    "# lbs to Kg\n",
    "chart.loc[chart['LABEL'] == 'Admission Weight (lbs.)' , 'VALUE'] = chart['VALUE'] * 0.45\n",
    "\n",
    "# Inch to CM\n",
    "chart.loc[chart['ITEMID'] == 920  , 'VALUE'] = chart['VALUE'] * 2.54\n",
    "chart.loc[chart['ITEMID'] == 1394 , 'VALUE'] = chart['VALUE'] * 2.54\n",
    "chart.loc[chart['ITEMID'] == 4187 , 'VALUE'] = chart['VALUE'] * 2.54\n",
    "chart.loc[chart['ITEMID'] == 3486 , 'VALUE'] = chart['VALUE'] * 2.54"
   ]
  },
  {
   "cell_type": "code",
   "execution_count": 54,
   "metadata": {},
   "outputs": [],
   "source": [
    "# Unifying several variables into one\n",
    "\n",
    "# Weight\n",
    "chart.loc[chart['LABEL'] == 'Admission Weight (Kg)'  , 'LABEL'] = 'Weight'\n",
    "chart.loc[chart['LABEL'] == 'Admission Weight (lbs.)', 'LABEL'] = 'Weight'\n",
    "# Height\n",
    "chart.loc[chart['LABEL'] == 'Height (cm)'       , 'LABEL'] = 'Height'\n",
    "chart.loc[chart['LABEL'] == 'Admit Ht'          , 'LABEL'] = 'Height'\n",
    "chart.loc[chart['LABEL'] == 'Height Inches'     , 'LABEL'] = 'Height'\n",
    "chart.loc[chart['LABEL'] == 'Length Calc Inches', 'LABEL'] = 'Height'\n",
    "chart.loc[chart['LABEL'] == 'Length in Inches'  , 'LABEL'] = 'Height'\n",
    "chart.loc[chart['LABEL'] == 'Length Calc (cm)'  , 'LABEL'] = 'Height'\n",
    "chart.loc[chart['LABEL'] == 'Length in cm'      , 'LABEL'] = 'Height' \n",
    "# O2 Saturation\n",
    "chart.loc[chart['LABEL'] == 'Arterial O2 Saturation'     , 'LABEL'] = 'Oxygen Saturation'\n",
    "chart.loc[chart['LABEL'] == 'O2 saturation pulseoxymetry', 'LABEL'] = 'Oxygen Saturation'\n",
    "chart.loc[chart['LABEL'] == 'SpO2', 'LABEL'] = 'Oxygen Saturation'\n",
    "#Temperature\n",
    "chart.loc[chart['LABEL'] == 'Temperature Fahrenheit', 'LABEL'] = 'Temperature F'\n",
    "chart.loc[chart['LABEL'] == 'Temperature F (calc)'  , 'LABEL'] = 'Temperature F'\n",
    "\n",
    "chart.loc[chart['LABEL'] == 'Temperature C (calc)'  , 'LABEL'] = 'Temperature C'\n",
    "chart.loc[chart['LABEL'] == 'Temperature Celsius'  , 'LABEL'] = 'Temperature C'\n",
    "# BUN\n",
    "chart.loc[chart['LABEL'] == 'BUN (6-20)', 'LABEL'] = 'BUN'\n",
    "# Glucose\n",
    "chart.loc[chart['LABEL'] == 'Glucose (serum)'      , 'LABEL'] = 'Glucose'\n",
    "chart.loc[chart['LABEL'] == 'Glucose finger stick' , 'LABEL'] = 'Glucose'\n",
    "chart.loc[chart['LABEL'] == 'Glucose (whole blood)', 'LABEL'] = 'Glucose'\n",
    "chart.loc[chart['LABEL'] == 'Glucose (70-105)'     , 'LABEL'] = 'Glucose'\n",
    "chart.loc[chart['LABEL'] == 'Fingerstick Glucose'  , 'LABEL'] = 'Glucose'\n",
    "chart.loc[chart['LABEL'] == 'Non Invasive Blood Pressure systolic' , 'LABEL'] = 'NBP [Systolic]'\n",
    "chart.loc[chart['LABEL'] == 'Non Invasive Blood Pressure diastolic', 'LABEL'] = 'NBP [Diastolic]'\n",
    "chart.loc[chart['LABEL'] == 'Non Invasive Blood Pressure mean'     , 'LABEL'] = 'NBP Mean'\n",
    "chart.loc[chart['LABEL'] == 'Arterial Blood Pressure mean', 'LABEL'] = 'ART BP mean'\n",
    "chart.loc[chart['LABEL'] == 'Arterial BP Mean'            , 'LABEL'] = 'ART BP mean'\n",
    "chart.loc[chart['LABEL'] == 'Arterial Blood Pressure systolic', 'LABEL'] = 'ART BP Systolic'\n",
    "chart.loc[chart['LABEL'] == 'Arterial BP [Systolic]'          , 'LABEL'] = 'ART BP Systolic'\n",
    "chart.loc[chart['LABEL'] == 'Arterial Blood Pressure diastolic', 'LABEL'] = 'ART BP Diastolic'\n",
    "chart.loc[chart['LABEL'] == 'Arterial BP [Diastolic]'          , 'LABEL'] = 'ART BP Diastolic'\n",
    "chart.loc[chart['LABEL'] == 'Resp Rate (Spont)'    , 'LABEL'] = 'Respiratory Rate (spontaneous)'\n",
    "chart.loc[chart['LABEL'] == 'Respiratory Rate Set' , 'LABEL'] = 'Respiratory Rate (Set)'\n",
    "chart.loc[chart['LABEL'] == 'Resp Rate (Total)'    , 'LABEL'] = 'Respiratory Rate (Total)'\n",
    "chart.loc[chart['LABEL'] == 'PH (Arterial)', 'LABEL'] = 'pH'\n",
    "chart.loc[chart['LABEL'] == 'Arterial pH'  , 'LABEL'] = 'pH'\n",
    "chart.loc[chart['LABEL'] == 'Art.pH'       , 'LABEL'] = 'pH' \n",
    "chart.loc[chart['LABEL'] == 'pH (Art)'  , 'LABEL'] = 'pH'\n",
    "chart.loc[chart['LABEL'] == 'Eye Opening'    , 'LABEL'] = 'GCS - Eye Opening'\n",
    "chart.loc[chart['LABEL'] == 'Motor Response' , 'LABEL'] = 'GCS - Motor Response'\n",
    "chart.loc[chart['LABEL'] == 'Verbal Response', 'LABEL'] = 'GCS - Verbal Response'\n",
    "chart.loc[chart['LABEL'] == 'Pain Level'     , 'LABEL'] = 'Pain Level Response'\n",
    "chart.loc[chart['LABEL'] == 'Calcium (8.4-10.2)' , 'LABEL'] = 'Calcium'\n",
    "chart.loc[chart['LABEL'] == 'Magnesium (1.6-2.6)', 'LABEL'] = 'Magnesium'\n",
    "chart.loc[chart['LABEL'] == 'Arterial Base Excess', 'LABEL'] = 'Base Excess'\n",
    "chart.loc[chart['LABEL'] == 'Arterial CO2(Calc)', 'LABEL'] = 'Total CO2'\n",
    "chart.loc[chart['LABEL'] == 'Carbon Dioxide',     'LABEL'] = 'Total CO2'  \n",
    "chart.loc[chart['LABEL'] == 'Anion gap', 'LABEL'] = 'Anion Gap'\n",
    "chart.loc[chart['LABEL'] == 'O2 Flow (additional cannula)', 'LABEL'] = 'O2 Flow'\n",
    "chart.loc[chart['LABEL'] == 'Arterial PaCO2',        'LABEL'] = 'PaCO2'\n",
    "chart.loc[chart['LABEL'] == 'Arterial CO2 Pressure', 'LABEL'] = 'PaCO2'\n",
    "chart.loc[chart['LABEL'] == 'pCO2',                  'LABEL'] = 'PaCO2'\n",
    "chart.loc[chart['LABEL'] == 'pCO2 (other)',          'LABEL'] = 'PaCO2'\n",
    "chart.loc[chart['LABEL'] == 'PCO2',                  'LABEL'] = 'PaCO2'\n",
    "chart.loc[chart['LABEL'] == 'Arterial PaCO2',        'LABEL'] = 'PaCO2'\n",
    "chart.loc[chart['LABEL'] == 'Arterial PaO2',        'LABEL'] = 'PaO2' \n",
    "chart.loc[chart['LABEL'] == 'Arterial O2 pressure', 'LABEL'] = 'PaO2'\n",
    "chart.loc[chart['LABEL'] == 'PAO2',                 'LABEL'] = 'PaO2'\n",
    "chart.loc[chart['LABEL'] == 'Inspired O2 Fraction', 'LABEL'] = 'FiO2'\n",
    "chart.loc[chart['LABEL'] == 'Richmond-RAS Scale'      , 'LABEL'] = 'Sedation Score'\n",
    "chart.loc[chart['LABEL'] == 'Goal Richmond-RAS Scale' , 'LABEL'] = 'Sedation Score'\n",
    "chart.loc[chart['LABEL'] == 'Cardiac Index'   , 'LABEL'] = 'CI'\n",
    "chart.loc[chart['LABEL'] == 'CI (PiCCO)'      , 'LABEL'] = 'CI'\n",
    "chart.loc[chart['LABEL'] == 'cardiac index o'   , 'LABEL'] = 'CI'\n",
    "chart.loc[chart['LABEL'] == 'Cardiac Index (CI NICOM)'  , 'LABEL'] = 'CI'  \n",
    "chart.loc[chart['LABEL'] == 'Intra Cranial Pressure'      , 'LABEL'] = 'ICP'\n",
    "chart.loc[chart['LABEL'] == 'Intra Cranial Pressure #2'   , 'LABEL'] = 'ICP'\n",
    "chart.loc[chart['LABEL'] == 'TSH NML(0.27-4.2)'      , 'LABEL'] = 'TSH' \n",
    "chart.loc[chart['LABEL'] == 'TSH  (NML 0.27-4.2)'    , 'LABEL'] = 'TSH'\n",
    "chart.loc[chart['LABEL'] == 'Serum Osmolality'    , 'LABEL'] = 'Osmolality'\n",
    "chart.loc[chart['LABEL'] == 'ammonia',               'LABEL'] = 'Ammonia' \n",
    "chart.loc[chart['LABEL'] == 'AMMONIA',               'LABEL'] = 'Ammonia'\n",
    "chart.loc[chart['LABEL'] == 'AMMONIA/12-47 UMOL/L',  'LABEL'] = 'Ammonia'\n",
    "chart.loc[chart['LABEL'] == 'cortisol',    'LABEL'] = 'Cortisol' \n",
    "chart.loc[chart['LABEL'] == 'EtCO2',                      'LABEL'] = 'ETCO2' \n",
    "chart.loc[chart['LABEL'] == 'EtCO2 Clinical indication',  'LABEL'] = 'ETCO2'\n",
    "chart.loc[chart['LABEL'] == 'dexmedetomidine',  'LABEL'] = 'Dexmedetomidine'  \n",
    "chart.loc[chart['LABEL'] == 'propofol',               'LABEL'] = 'Propofol' \n",
    "chart.loc[chart['LABEL'] == 'Propofol (Intubation)',  'LABEL'] = 'Propofol'\n",
    "chart.loc[chart['LABEL'] == 'Midazolam/Versed',  'LABEL'] = 'Midazolam'  \n",
    "chart.loc[chart['LABEL'] == 'Midazolam',         'LABEL'] = 'Midazolam'\n",
    "chart.loc[chart['LABEL'] == 'Lorazepam/Ativan',   'LABEL'] = 'Lorazepam'\n",
    "chart.loc[chart['LABEL'] == 'fentanyl mg/hr',  'LABEL'] = 'Fentanyl' \n",
    "chart.loc[chart['LABEL'] == 'fentanyl',        'LABEL'] = 'Fentanyl'\n",
    "chart.loc[chart['LABEL'] == 'Fentanyl:',       'LABEL'] = 'Fentanyl'"
   ]
  },
  {
   "cell_type": "markdown",
   "metadata": {},
   "source": [
    "# LAB Events"
   ]
  },
  {
   "cell_type": "code",
   "execution_count": 59,
   "metadata": {},
   "outputs": [],
   "source": [
    "lab = dataframe_from_csv(os.path.join(mimic_path, 'LABEVENTS.csv'),index_col=False)\n",
    "lab.drop(columns=['ROW_ID', 'VALUENUM', 'FLAG'], inplace=True)"
   ]
  },
  {
   "cell_type": "code",
   "execution_count": 60,
   "metadata": {},
   "outputs": [],
   "source": [
    "d_lab = dataframe_from_csv(os.path.join(mimic_path, 'D_LABITEMS.csv'),index_col=False)\n",
    "d_lab.drop(columns=['ROW_ID', 'FLUID', 'CATEGORY', 'LOINC_CODE'], inplace=True)"
   ]
  },
  {
   "cell_type": "code",
   "execution_count": null,
   "metadata": {},
   "outputs": [],
   "source": [
    "lab_dlab = pd.merge(lab, d_lab, on='ITEMID')\n",
    "lab_dlab.VALUEUOM = lab_dlab.VALUEUOM.fillna('').astype(str)\n",
    "lab_dlab = lab_dlab.ix[lab_dlab.VALUE.notnull()]"
   ]
  },
  {
   "cell_type": "code",
   "execution_count": null,
   "metadata": {},
   "outputs": [],
   "source": [
    "lab_dlab.head()"
   ]
  },
  {
   "cell_type": "code",
   "execution_count": null,
   "metadata": {},
   "outputs": [],
   "source": [
    "lab_dlab.shape"
   ]
  },
  {
   "cell_type": "markdown",
   "metadata": {},
   "source": [
    "# Add icu-stay to Lab events"
   ]
  },
  {
   "cell_type": "code",
   "execution_count": 64,
   "metadata": {},
   "outputs": [],
   "source": [
    "icu_lab = pd.merge(lab_dlab, adm_pat_icu, how='right', on=['SUBJECT_ID'])"
   ]
  },
  {
   "cell_type": "code",
   "execution_count": 65,
   "metadata": {},
   "outputs": [],
   "source": [
    "icu_lab.INTIME    = pd.to_datetime(icu_lab.INTIME)\n",
    "icu_lab.OUTTIME   = pd.to_datetime(icu_lab.OUTTIME)\n",
    "icu_lab.CHARTTIME = pd.to_datetime(icu_lab.CHARTTIME)"
   ]
  },
  {
   "cell_type": "code",
   "execution_count": 66,
   "metadata": {},
   "outputs": [],
   "source": [
    "icu_lab = icu_lab[(icu_lab['CHARTTIME'] > icu_lab['INTIME']) & (icu_lab['CHARTTIME'] < icu_lab['OUTTIME'])]"
   ]
  },
  {
   "cell_type": "code",
   "execution_count": 67,
   "metadata": {},
   "outputs": [],
   "source": [
    "icu_lab.drop(columns=['SUBJECT_ID', 'HADM_ID_y', 'HADM_ID_x', 'GENDER', 'AGE', 'LOS', 'INTIME', 'OUTTIME', \n",
    "                      'DIAGNOSIS', 'ETHNICITY'], inplace=True)\n",
    "icu_lab[['ITEMID']] = icu_lab[['ITEMID']].astype(int)\n",
    "col = ['ICUSTAY_ID', 'ITEMID', 'LABEL', 'VALUE', 'VALUEUOM', 'CHARTTIME']\n",
    "icu_lab = icu_lab[col]"
   ]
  },
  {
   "cell_type": "code",
   "execution_count": null,
   "metadata": {},
   "outputs": [],
   "source": [
    "icu_lab = check_itemvalue(icu_lab)\n",
    "icu_lab = icu_lab.ix[icu_lab.VALUE.notnull()]"
   ]
  },
  {
   "cell_type": "code",
   "execution_count": null,
   "metadata": {},
   "outputs": [],
   "source": [
    "icu_lab.head()"
   ]
  },
  {
   "cell_type": "code",
   "execution_count": null,
   "metadata": {},
   "outputs": [],
   "source": [
    "icu_lab.shape"
   ]
  },
  {
   "cell_type": "code",
   "execution_count": null,
   "metadata": {},
   "outputs": [],
   "source": [
    "icu_lab['LABEL'].unique()"
   ]
  },
  {
   "cell_type": "code",
   "execution_count": null,
   "metadata": {},
   "outputs": [],
   "source": [
    "icu_lab.head()"
   ]
  },
  {
   "cell_type": "markdown",
   "metadata": {},
   "source": [
    "# Filter Lab Event based on Delirium icustay  and Features"
   ]
  },
  {
   "cell_type": "code",
   "execution_count": 73,
   "metadata": {},
   "outputs": [],
   "source": [
    "icu_lab = icu_lab[icu_lab['ICUSTAY_ID'].isin(icustay_delirium)]"
   ]
  },
  {
   "cell_type": "code",
   "execution_count": null,
   "metadata": {},
   "outputs": [],
   "source": [
    "icu_lab[icu_lab['LABEL'].str.contains('Chloride')].shape"
   ]
  },
  {
   "cell_type": "code",
   "execution_count": 76,
   "metadata": {},
   "outputs": [],
   "source": [
    "icu_lab_features = [\n",
    "#Oxygen Saturation\n",
    "        'Oxygen Saturation', \n",
    "#WBC\n",
    "       'White Blood Cells', 'WBC', 'WBC Count', \n",
    "#Sodium\n",
    "       'Sodium', 'Sodium, Whole Blood', \n",
    "# blood urea nitrogen (BUN)\n",
    "        'Urea Nitrogen',\n",
    "#Glucose   \n",
    "    'Glucose', \n",
    "#Bilirubin\n",
    "    'Bilirubin, Direct',# 'Bilirubin, Indirect', 'Bilirubin, Total', \n",
    "#Hemoglobin   \n",
    "    'Hemoglobin',   \n",
    "#Platelet\n",
    "    'Platelet Count',\n",
    "# Potassium\n",
    "    'Potassium', 'Potassium, Whole Blood', \n",
    "# chloride\n",
    "    'Chloride', 'Chloride, Whole Blood',\n",
    "# Bicarbonate\n",
    "       'Bicarbonate',\n",
    "# Creatinine\n",
    "       'Creatinine', \n",
    "# ALT\n",
    "        'Alanine Aminotransferase (ALT)',\n",
    "# AST\n",
    "       'Asparate Aminotransferase (AST)', \n",
    "# Alkaline\n",
    "       'Alkaline Phosphatase',\n",
    "    'Thyroid Stimulating Hormone', #TSH\n",
    "       'Osmolality, Measured', #serum osmolality\n",
    "       'Carboxyhemoglobin', #Carboxyhemoglobin\n",
    "       'SaO2', #Oxyhemoglobin\n",
    "       'Methemoglobin', #Methemoglobin\n",
    "       'Ammonia', #Ammonia\n",
    "       'Cortisol', #Cortisol\n",
    "       'Lactate', #Lactate\n",
    "       'pH', #pH\n",
    "       'pCO2', #pCO2\n",
    "       'pO2' #pO2] "
   ]
  },
  {
   "cell_type": "code",
   "execution_count": 77,
   "metadata": {},
   "outputs": [],
   "source": [
    "icu_lab = icu_lab[icu_lab['LABEL'].isin(icu_lab_features)]"
   ]
  },
  {
   "cell_type": "code",
   "execution_count": null,
   "metadata": {},
   "outputs": [],
   "source": [
    "icu_lab[icu_lab['LABEL'] == 'Hemoglobin'].shape"
   ]
  },
  {
   "cell_type": "code",
   "execution_count": null,
   "metadata": {},
   "outputs": [],
   "source": [
    "icu_lab.shape"
   ]
  },
  {
   "cell_type": "markdown",
   "metadata": {},
   "source": [
    "## Unifying variables with more than one nam"
   ]
  },
  {
   "cell_type": "code",
   "execution_count": 80,
   "metadata": {},
   "outputs": [],
   "source": [
    "icu_lab.loc[icu_lab['LABEL'] == 'White Blood Cells'     , 'LABEL'] = 'WBC'\n",
    "icu_lab.loc[icu_lab['LABEL'] == 'WBC Count'             , 'LABEL'] = 'WBC'\n",
    "#Sodium\n",
    "icu_lab.loc[icu_lab['LABEL'] == 'Sodium, Whole Blood'   , 'LABEL'] = 'Sodium'\n",
    "# blood urea nitrogen (BUN)\n",
    "icu_lab.loc[icu_lab['LABEL'] == 'Urea Nitrogen'   , 'LABEL'] = 'BUN'\n",
    "#Bilirubin\n",
    "icu_lab.loc[icu_lab['LABEL'] == 'Bilirubin, Direct'     , 'LABEL'] = 'direct bilirubin'\n",
    "icu_lab.loc[icu_lab['LABEL'] == 'Hematocrit'      , 'LABEL'] = 'Hemoglobin'\n",
    "#Platelet\n",
    "icu_lab.loc[icu_lab['LABEL'] == 'Platelet Count'      , 'LABEL'] = 'Platelets'\n",
    "# Potassium\n",
    "icu_lab.loc[icu_lab['LABEL'] == 'Potassium, Whole Blood', 'LABEL'] = 'Potassium'\n",
    "# chloride\n",
    "icu_lab.loc[icu_lab['LABEL'] == 'Chloride, Whole Blood' , 'LABEL'] = 'Chloride'\n",
    "# ALT\n",
    "icu_lab.loc[icu_lab['LABEL'] == 'Alanine Aminotransferase (ALT)' , 'LABEL'] = 'ALT'\n",
    "# AST\n",
    "icu_lab.loc[icu_lab['LABEL'] == 'Asparate Aminotransferase (AST)', 'LABEL'] = 'AST'\n",
    "# Alkaline\n",
    "icu_lab.loc[icu_lab['LABEL'] == 'Alkaline Phosphatase'  , 'LABEL'] = 'Alkaline Phosphate'\n",
    "icu_lab.loc[icu_lab['LABEL'] == 'Myelocytes'            , 'LABEL'] = 'Metamyelocytes'\n",
    "icu_lab.loc[icu_lab['LABEL'] == 'Calcium, Total'        , 'LABEL'] = 'Calcium'\n",
    "icu_lab.loc[icu_lab['LABEL'] == 'Platelet Count'        , 'LABEL'] = 'Platelets'\n",
    "icu_lab.loc[icu_lab['LABEL'] == 'Red Blood Cells'       , 'LABEL'] = 'RBC'  \n",
    "icu_lab.loc[icu_lab['LABEL'] == 'pCO2'                  , 'LABEL'] = 'PaCO2'\n",
    "icu_lab.loc[icu_lab['LABEL'] == 'pO2'                   , 'LABEL'] = 'PaO2'\n",
    "icu_lab.loc[icu_lab['LABEL'] == 'Calculated Total CO2'  , 'LABEL'] = 'Total CO2'\n",
    "icu_lab.loc[icu_lab['LABEL'] == 'Basophils'             , 'LABEL'] = 'Differential-Basos'\n",
    "icu_lab.loc[icu_lab['LABEL'] == 'Eosinophils'           , 'LABEL'] = 'Differential-Eos'\n",
    "icu_lab.loc[icu_lab['LABEL'] == 'Lymphocytes'           , 'LABEL'] = 'Differential-Lymphs'\n",
    "icu_lab.loc[icu_lab['LABEL'] == 'Monocytes'             , 'LABEL'] = 'Differential-Monos'\n",
    "icu_lab.loc[icu_lab['LABEL'] == 'Osmolality, Measured'  , 'LABEL'] = 'Osmolality'\n",
    "icu_lab.loc[icu_lab['LABEL'] == 'SaO2'                  , 'LABEL'] = 'Oxyhemoglobin'\n",
    "\n",
    "icu_lab.loc[icu_lab['LABEL'] == 'Thyroid Stimulating Hormone'    , 'LABEL'] = 'TSH'"
   ]
  },
  {
   "cell_type": "code",
   "execution_count": null,
   "metadata": {},
   "outputs": [],
   "source": [
    "icu_lab.head()"
   ]
  },
  {
   "cell_type": "code",
   "execution_count": null,
   "metadata": {},
   "outputs": [],
   "source": [
    "icu_lab.shape"
   ]
  },
  {
   "cell_type": "code",
   "execution_count": null,
   "metadata": {},
   "outputs": [],
   "source": [
    "icu_lab.LABEL.unique()"
   ]
  },
  {
   "cell_type": "code",
   "execution_count": 84,
   "metadata": {},
   "outputs": [],
   "source": [
    "icu_lab.to_csv(os.path.join(data_path, 'icu_lab.csv'),index=False)"
   ]
  },
  {
   "cell_type": "markdown",
   "metadata": {},
   "source": [
    "# Input-MV"
   ]
  },
  {
   "cell_type": "code",
   "execution_count": 85,
   "metadata": {},
   "outputs": [],
   "source": [
    "input_mv = dataframe_from_csv(os.path.join(mimic_path, 'INPUTEVENTS_MV.csv'),index_col=False)\n",
    "input_mv.drop(columns=['ORIGINALRATE', 'ORIGINALAMOUNT', 'COMMENTS_DATE', 'COMMENTS_CANCELEDBY', 'COMMENTS_EDITEDBY',\n",
    "                       'CGID', 'RATE', 'RATEUOM', 'ORDERCATEGORYNAME', 'SECONDARYORDERCATEGORYNAME', 'LINKORDERID',\n",
    "                       'ORDERCOMPONENTTYPEDESCRIPTION', 'ORDERCATEGORYDESCRIPTION', 'CONTINUEINNEXTDEPT', 'ORDERID',\n",
    "                       'CANCELREASON', 'STATUSDESCRIPTION', 'ISOPENBAG', 'STORETIME', 'ENDTIME', 'ROW_ID','HADM_ID',\n",
    "                       'SUBJECT_ID'], inplace=True)"
   ]
  },
  {
   "cell_type": "code",
   "execution_count": null,
   "metadata": {},
   "outputs": [],
   "source": [
    "input_mv.head()"
   ]
  },
  {
   "cell_type": "code",
   "execution_count": null,
   "metadata": {},
   "outputs": [],
   "source": [
    "input_mv = input_mv.ix[input_mv.ICUSTAY_ID.notnull()]\n",
    "input_mv = input_mv[input_mv['ICUSTAY_ID'].isin(icustay_delirium)]\n",
    "input_mv.TOTALAMOUNTUOM = input_mv.TOTALAMOUNTUOM.fillna('').astype(str)\n",
    "input_mv[['ICUSTAY_ID']] = input_mv[['ICUSTAY_ID']].astype(int)\n",
    "input_mv.STARTTIME = pd.to_datetime(input_mv.STARTTIME)"
   ]
  },
  {
   "cell_type": "code",
   "execution_count": 88,
   "metadata": {},
   "outputs": [],
   "source": [
    "input_mv = pd.merge(input_mv, d_item, on='ITEMID')"
   ]
  },
  {
   "cell_type": "code",
   "execution_count": 89,
   "metadata": {},
   "outputs": [],
   "source": [
    "input_mv = input_mv[['ICUSTAY_ID', 'ITEMID', 'LABEL', 'AMOUNT', 'AMOUNTUOM', 'STARTTIME', 'PATIENTWEIGHT']]\n",
    "input_mv.columns = ['ICUSTAY_ID', 'ITEMID', 'LABEL', 'VALUE', 'VALUEUOM', 'CHARTTIME', 'PATIENTWEIGHT']"
   ]
  },
  {
   "cell_type": "code",
   "execution_count": null,
   "metadata": {},
   "outputs": [],
   "source": [
    "input_mv.head()"
   ]
  },
  {
   "cell_type": "code",
   "execution_count": null,
   "metadata": {},
   "outputs": [],
   "source": [
    "input_mv.shape"
   ]
  },
  {
   "cell_type": "code",
   "execution_count": null,
   "metadata": {},
   "outputs": [],
   "source": [
    "input_mv = check_itemvalue(input_mv)\n",
    "input_mv = input_mv.ix[input_mv.VALUE.notnull()]"
   ]
  },
  {
   "cell_type": "code",
   "execution_count": 93,
   "metadata": {},
   "outputs": [],
   "source": [
    "input_mv_features = [\n",
    "         'Dexmedetomidine (Precedex)',\n",
    "         'Morphine Sulfate', \n",
    "         'Propofol',\n",
    "         'Midazolam (Versed)', 'Midazolam',\n",
    "         'Fentanyl', 'Fentanyl (Conc)', 'Fentanyl (Concentrate)', 'Fentanyl (Push)',\n",
    "         'Lorazepam (Ativan)']"
   ]
  },
  {
   "cell_type": "code",
   "execution_count": 94,
   "metadata": {},
   "outputs": [],
   "source": [
    "input_mv = input_mv[input_mv['LABEL'].isin(input_mv_features)]"
   ]
  },
  {
   "cell_type": "code",
   "execution_count": 95,
   "metadata": {},
   "outputs": [],
   "source": [
    "input_mv.loc[input_mv['LABEL'] == 'Fentanyl (Conc)'          , 'LABEL'] = 'Fentanyl'\n",
    "input_mv.loc[input_mv['LABEL'] == 'Fentanyl (Concentrate)'   , 'LABEL'] = 'Fentanyl'\n",
    "input_mv.loc[input_mv['LABEL'] == 'Fentanyl (Push)'          , 'LABEL'] = 'Fentanyl'\n",
    "input_mv.loc[input_mv['LABEL'] == 'Morphine Sulfate'  , 'LABEL'] = 'Morphine'\n",
    "input_mv.loc[input_mv['LABEL'] == 'Midazolam (Versed)', 'LABEL'] = 'Midazolam' \n",
    "input_mv.loc[input_mv['LABEL'] == 'Lorazepam (Ativan)', 'LABEL'] = 'Lorazepam' \n",
    "input_mv.loc[input_mv['LABEL'] == 'Dexmedetomidine (Precedex)' , 'LABEL'] = 'Dexmedetomidine'\n",
    "input_mv.loc[input_mv['LABEL'] == 'Insulin - Regular' , 'LABEL'] = 'Insulin'\n",
    "input_mv.loc[input_mv['LABEL'] == 'Insulin - Humalog' , 'LABEL'] = 'Insulin'\n",
    "input_mv.loc[input_mv['LABEL'] == 'Calcium Gluconate (CRRT)'   , 'LABEL'] = 'Calcium Gluconate'"
   ]
  },
  {
   "cell_type": "markdown",
   "metadata": {},
   "source": [
    "# Filter ICUStay Infromation based on Delirium icustay\n",
    "# Add weight from input-mv to adm-icu-pat"
   ]
  },
  {
   "cell_type": "code",
   "execution_count": 96,
   "metadata": {},
   "outputs": [],
   "source": [
    "adm_pat_icu = adm_pat_icu[adm_pat_icu['ICUSTAY_ID'].isin(icustay_delirium)]"
   ]
  },
  {
   "cell_type": "code",
   "execution_count": 97,
   "metadata": {},
   "outputs": [],
   "source": [
    "weight = input_mv.groupby(['ICUSTAY_ID']).head(1)[['ICUSTAY_ID', 'PATIENTWEIGHT']]"
   ]
  },
  {
   "cell_type": "code",
   "execution_count": 98,
   "metadata": {},
   "outputs": [],
   "source": [
    "adm_pat_icu = pd.merge(adm_pat_icu, weight, how='left', on='ICUSTAY_ID')"
   ]
  },
  {
   "cell_type": "code",
   "execution_count": null,
   "metadata": {},
   "outputs": [],
   "source": [
    "adm_pat_icu.head()"
   ]
  },
  {
   "cell_type": "code",
   "execution_count": 100,
   "metadata": {},
   "outputs": [
    {
     "data": {
      "text/plain": [
       "(7292, 11)"
      ]
     },
     "execution_count": 100,
     "metadata": {},
     "output_type": "execute_result"
    }
   ],
   "source": [
    "adm_pat_icu.shape"
   ]
  },
  {
   "cell_type": "code",
   "execution_count": 101,
   "metadata": {},
   "outputs": [
    {
     "data": {
      "text/plain": [
       "7292"
      ]
     },
     "execution_count": 101,
     "metadata": {},
     "output_type": "execute_result"
    }
   ],
   "source": [
    "adm_pat_icu.ICUSTAY_ID.nunique()"
   ]
  },
  {
   "cell_type": "markdown",
   "metadata": {},
   "source": [
    "# Drop weight from Input_mv"
   ]
  },
  {
   "cell_type": "code",
   "execution_count": 102,
   "metadata": {},
   "outputs": [],
   "source": [
    "input_mv.drop(columns=['PATIENTWEIGHT'], inplace=True)"
   ]
  },
  {
   "cell_type": "code",
   "execution_count": null,
   "metadata": {},
   "outputs": [],
   "source": [
    "input_mv.head()"
   ]
  },
  {
   "cell_type": "code",
   "execution_count": 104,
   "metadata": {},
   "outputs": [
    {
     "data": {
      "text/plain": [
       "(156487, 6)"
      ]
     },
     "execution_count": 104,
     "metadata": {},
     "output_type": "execute_result"
    }
   ],
   "source": [
    "input_mv.shape"
   ]
  },
  {
   "cell_type": "code",
   "execution_count": 105,
   "metadata": {},
   "outputs": [
    {
     "data": {
      "text/plain": [
       "array(['Fentanyl', 'Propofol', 'Dexmedetomidine', 'Midazolam', 'Morphine',\n",
       "       'Lorazepam'], dtype=object)"
      ]
     },
     "execution_count": 105,
     "metadata": {},
     "output_type": "execute_result"
    }
   ],
   "source": [
    "input_mv.LABEL.unique()"
   ]
  },
  {
   "cell_type": "markdown",
   "metadata": {},
   "source": [
    "# Prescriptions¶"
   ]
  },
  {
   "cell_type": "code",
   "execution_count": null,
   "metadata": {},
   "outputs": [],
   "source": [
    "prescription = dataframe_from_csv(os.path.join(mimic_path, 'PRESCRIPTIONS.csv'),index_col=False)\n",
    "prescription.drop(columns=['ROW_ID', 'ENDDATE', 'DRUG_TYPE', 'DRUG_NAME_POE', 'DRUG_NAME_GENERIC',\n",
    "                           'FORMULARY_DRUG_CD', 'NDC', 'ROUTE', 'FORM_UNIT_DISP', 'FORM_VAL_DISP', 'PROD_STRENGTH'],\n",
    "                           inplace=True)"
   ]
  },
  {
   "cell_type": "code",
   "execution_count": null,
   "metadata": {},
   "outputs": [],
   "source": [
    "prescription = prescription.ix[prescription.DOSE_VAL_RX.notnull()]"
   ]
  },
  {
   "cell_type": "code",
   "execution_count": 108,
   "metadata": {},
   "outputs": [],
   "source": [
    "col = ['SUBJECT_ID', 'HADM_ID', 'ICUSTAY_ID', 'GSN', 'DRUG', 'DOSE_VAL_RX', 'DOSE_UNIT_RX', 'STARTDATE']\n",
    "prescription = prescription[col]\n",
    "prescription.columns = ['SUBJECT_ID', 'HADM_ID','ICUSTAY_ID', 'ITEMID', 'LABEL', 'VALUE', 'VALUEUOM', 'CHARTTIME']"
   ]
  },
  {
   "cell_type": "code",
   "execution_count": 109,
   "metadata": {},
   "outputs": [],
   "source": [
    "prescription.loc[prescription['ICUSTAY_ID'].isnull(), 'ICUSTAY_ID'] = 123456\n",
    "prescription[['ICUSTAY_ID']] = prescription[['ICUSTAY_ID']].astype(int)\n",
    "prescription.CHARTTIME = pd.to_datetime(prescription.CHARTTIME)"
   ]
  },
  {
   "cell_type": "code",
   "execution_count": 110,
   "metadata": {},
   "outputs": [],
   "source": [
    "icu_copy = icu.copy()\n",
    "icu_copy.drop(columns=['LOS'], inplace=True)\n",
    "icu_copy['INTIME'] = pd.to_datetime(icu_copy['INTIME'], format= \"%Y-%m-%d\")\n",
    "icu_copy['INTIME'] = icu_copy.INTIME.dt.date\n",
    "icu_copy['OUTTIME'] = pd.to_datetime(icu_copy['OUTTIME'], format= \"%Y-%m-%d\")\n",
    "icu_copy['OUTTIME'] = icu_copy.OUTTIME.dt.date"
   ]
  },
  {
   "cell_type": "code",
   "execution_count": 111,
   "metadata": {},
   "outputs": [],
   "source": [
    "prescription = pd.merge(prescription, icu_copy, how='left', on=['SUBJECT_ID', 'HADM_ID'])"
   ]
  },
  {
   "cell_type": "code",
   "execution_count": 112,
   "metadata": {},
   "outputs": [],
   "source": [
    "prescription.CHARTTIME = pd.to_datetime(prescription.CHARTTIME)\n",
    "prescription.INTIME    = pd.to_datetime(prescription.INTIME)\n",
    "prescription.OUTTIME   = pd.to_datetime(prescription.OUTTIME)\n",
    "prescription = prescription[(prescription['CHARTTIME'] >= prescription['INTIME']) & (prescription['CHARTTIME'] <= prescription['OUTTIME'])]"
   ]
  },
  {
   "cell_type": "code",
   "execution_count": 113,
   "metadata": {},
   "outputs": [],
   "source": [
    "prescription.loc[prescription['ICUSTAY_ID_x'] == 123456, 'ICUSTAY_ID_x'] = np.nan\n",
    "prescription.loc[prescription['ICUSTAY_ID_x'].isnull(), 'ICUSTAY_ID_x'] = prescription.ICUSTAY_ID_y"
   ]
  },
  {
   "cell_type": "code",
   "execution_count": 114,
   "metadata": {},
   "outputs": [],
   "source": [
    "prescription.drop(columns=['SUBJECT_ID', 'HADM_ID', 'ICUSTAY_ID_y', 'INTIME', 'OUTTIME'], inplace=True)\n",
    "prescription.columns = ['ICUSTAY_ID', 'ITEMID', 'LABEL', 'VALUE', 'VALUEUOM', 'CHARTTIME']\n",
    "prescription[['ICUSTAY_ID']] = prescription[['ICUSTAY_ID']].astype(int)\n",
    "prescription = prescription[prescription['ICUSTAY_ID'].isin(icustay_delirium)]"
   ]
  },
  {
   "cell_type": "code",
   "execution_count": 115,
   "metadata": {},
   "outputs": [],
   "source": [
    "prescription_copy = prescription.copy()\n",
    "prescription = prescription.groupby('LABEL').fillna(method='ffill')\n",
    "prescription['LABEL'] = prescription_copy.LABEL"
   ]
  },
  {
   "cell_type": "code",
   "execution_count": 116,
   "metadata": {},
   "outputs": [],
   "source": [
    "prescription_copy = prescription.copy()\n",
    "prescription = prescription.groupby('LABEL').fillna(method='bfill')\n",
    "prescription['LABEL'] = prescription_copy.LABEL"
   ]
  },
  {
   "cell_type": "code",
   "execution_count": 117,
   "metadata": {},
   "outputs": [],
   "source": [
    "col = ['ICUSTAY_ID', 'ITEMID', 'LABEL', 'VALUE', 'VALUEUOM', 'CHARTTIME']\n",
    "prescription = prescription[col]"
   ]
  },
  {
   "cell_type": "code",
   "execution_count": 118,
   "metadata": {},
   "outputs": [
    {
     "name": "stderr",
     "output_type": "stream",
     "text": [
      "/home/ehealth/anaconda3/lib/python3.6/site-packages/ipykernel_launcher.py:3: DeprecationWarning: \n",
      ".ix is deprecated. Please use\n",
      ".loc for label based indexing or\n",
      ".iloc for positional indexing\n",
      "\n",
      "See the documentation here:\n",
      "http://pandas.pydata.org/pandas-docs/stable/indexing.html#ix-indexer-is-deprecated\n",
      "  This is separate from the ipykernel package so we can avoid doing imports until\n"
     ]
    }
   ],
   "source": [
    "prescription = check_itemvalue(prescription)\n",
    "prescription = prescription.ix[prescription.VALUE.notnull()]"
   ]
  },
  {
   "cell_type": "code",
   "execution_count": 119,
   "metadata": {},
   "outputs": [],
   "source": [
    "prescription_features = [\n",
    "         'Morphine Sulfate',\n",
    "         'Propofol'\n",
    "         'Lorazepam',\n",
    "         'Midazolam'\n",
    "]"
   ]
  },
  {
   "cell_type": "code",
   "execution_count": 120,
   "metadata": {},
   "outputs": [],
   "source": [
    "prescription = prescription[prescription['LABEL'].isin(prescription_features)]"
   ]
  },
  {
   "cell_type": "code",
   "execution_count": 121,
   "metadata": {},
   "outputs": [],
   "source": [
    "prescription.loc[prescription['LABEL'] == 'Heparin'   , 'LABEL'] = 'Heparin'\n",
    "prescription.loc[prescription['LABEL'] == 'Lorazepam' , 'LABEL'] = 'Lorazepam'\n",
    "prescription.loc[prescription['LABEL'] == 'Midazolam' , 'LABEL'] = 'Midazolam'\n",
    "prescription.loc[prescription['LABEL'] == 'Propofol'  , 'LABEL'] = 'Propofol'\n",
    "prescription.loc[prescription['LABEL'] == 'Morphine Sulfate'  , 'LABEL'] = 'Morphine'\n",
    "prescription.loc[prescription['LABEL'] == 'Sodium Bicarbonate', 'LABEL'] = 'Sodium-Bicarbonate-prescrip'"
   ]
  },
  {
   "cell_type": "code",
   "execution_count": null,
   "metadata": {},
   "outputs": [],
   "source": [
    "prescription.head()"
   ]
  },
  {
   "cell_type": "code",
   "execution_count": 123,
   "metadata": {},
   "outputs": [
    {
     "data": {
      "text/plain": [
       "(13393, 6)"
      ]
     },
     "execution_count": 123,
     "metadata": {},
     "output_type": "execute_result"
    }
   ],
   "source": [
    "prescription.shape"
   ]
  },
  {
   "cell_type": "code",
   "execution_count": 124,
   "metadata": {},
   "outputs": [
    {
     "data": {
      "text/plain": [
       "array(['Propofol', 'Lorazepam', 'Midazolam', 'Morphine'], dtype=object)"
      ]
     },
     "execution_count": 124,
     "metadata": {},
     "output_type": "execute_result"
    }
   ],
   "source": [
    "prescription.LABEL.unique()"
   ]
  },
  {
   "cell_type": "markdown",
   "metadata": {},
   "source": [
    "# All Tables"
   ]
  },
  {
   "cell_type": "code",
   "execution_count": 125,
   "metadata": {},
   "outputs": [],
   "source": [
    "tables = [chart, icu_lab, input_mv, prescription]\n",
    "all_tables = pd.concat(tables)\n",
    "all_tables[['ICUSTAY_ID']] = all_tables[['ICUSTAY_ID']].astype(int)\n",
    "all_tables = all_tables.sort_values(by=['ICUSTAY_ID','CHARTTIME'], axis=0)\n",
    "all_tables.reset_index(inplace=True, drop=True)"
   ]
  },
  {
   "cell_type": "code",
   "execution_count": null,
   "metadata": {},
   "outputs": [],
   "source": [
    "all_tables = check_itemvalue(all_tables)\n",
    "all_tables = all_tables.ix[all_tables.VALUE.notnull()]"
   ]
  },
  {
   "cell_type": "code",
   "execution_count": null,
   "metadata": {},
   "outputs": [],
   "source": [
    "all_tables.head()"
   ]
  },
  {
   "cell_type": "code",
   "execution_count": null,
   "metadata": {},
   "outputs": [],
   "source": [
    "all_tables.shape"
   ]
  },
  {
   "cell_type": "code",
   "execution_count": null,
   "metadata": {},
   "outputs": [],
   "source": [
    "chart.ICUSTAY_ID.nunique()"
   ]
  },
  {
   "cell_type": "code",
   "execution_count": 130,
   "metadata": {},
   "outputs": [],
   "source": [
    "all_tables.to_csv(os.path.join(data_path, 'all_tables.csv'),index=False)\n"
   ]
  },
  {
   "cell_type": "markdown",
   "metadata": {},
   "source": [
    "# SAVE DATA"
   ]
  },
  {
   "cell_type": "code",
   "execution_count": 131,
   "metadata": {},
   "outputs": [],
   "source": [
    "def cohort_stay_id(frame):\n",
    "    cohort = frame.ICUSTAY_ID.unique()\n",
    "    return cohort"
   ]
  },
  {
   "cell_type": "markdown",
   "metadata": {},
   "source": [
    "# ADMISSION"
   ]
  },
  {
   "cell_type": "code",
   "execution_count": 132,
   "metadata": {},
   "outputs": [],
   "source": [
    "def break_up_admission_by_unit_stay(adm, data_path, stayid, verbose=1):\n",
    "    unit_stays = stayid\n",
    "    nb_unit_stays = unit_stays.shape[0]\n",
    "    for i, stay_id in enumerate(unit_stays):\n",
    "        if verbose:\n",
    "            sys.stdout.write('\\rStayID {0} of {1}...'.format(i+1, nb_unit_stays))\n",
    "        dn = os.path.join(data_path, str(stay_id))\n",
    "        try:\n",
    "            os.makedirs(dn)  \n",
    "        except:\n",
    "            pass\n",
    "        adm.ix[adm.ICUSTAY_ID == stay_id].to_csv(os.path.join(dn, 'admission.csv'), index=False)\n",
    "    if verbose:\n",
    "        sys.stdout.write('DONE!\\n')"
   ]
  },
  {
   "cell_type": "code",
   "execution_count": 133,
   "metadata": {},
   "outputs": [],
   "source": [
    "stay_id_Adm  = cohort_stay_id(adm_pat_icu)"
   ]
  },
  {
   "cell_type": "code",
   "execution_count": null,
   "metadata": {},
   "outputs": [],
   "source": [
    "break_up_admission_by_unit_stay(adm_pat_icu, data_path, stayid=stay_id_Adm, verbose=1)"
   ]
  },
  {
   "cell_type": "markdown",
   "metadata": {},
   "source": [
    "# CHART"
   ]
  },
  {
   "cell_type": "code",
   "execution_count": 135,
   "metadata": {},
   "outputs": [],
   "source": [
    "def break_up_chart_by_unit_stay(chart, data_path, stayid, verbose=1):\n",
    "    unit_stays = stayid\n",
    "    nb_unit_stays = unit_stays.shape[0]\n",
    "    for i, stay_id in enumerate(unit_stays):\n",
    "        if verbose:\n",
    "            sys.stdout.write('\\rStayID {0} of {1}...'.format(i+1, nb_unit_stays))\n",
    "        dn = os.path.join(data_path, str(stay_id))\n",
    "        try:\n",
    "            os.makedirs(dn)  \n",
    "        except:\n",
    "            pass\n",
    "        chart.ix[chart.ICUSTAY_ID == stay_id].to_csv(os.path.join(dn, 'chart.csv'), index=False)\n",
    "    if verbose:\n",
    "        sys.stdout.write('DONE!\\n')"
   ]
  },
  {
   "cell_type": "code",
   "execution_count": 136,
   "metadata": {},
   "outputs": [],
   "source": [
    "stay_id_chart  = cohort_stay_id(chart)"
   ]
  },
  {
   "cell_type": "code",
   "execution_count": null,
   "metadata": {},
   "outputs": [],
   "source": [
    "break_up_chart_by_unit_stay(chart, data_path, stayid=stay_id_chart, verbose=1)"
   ]
  },
  {
   "cell_type": "markdown",
   "metadata": {},
   "source": [
    "# ICU - LAB"
   ]
  },
  {
   "cell_type": "code",
   "execution_count": null,
   "metadata": {},
   "outputs": [],
   "source": [
    "def break_up_icu_lab_by_unit_stay(icu_lab, data_path, stayid, verbose=1):\n",
    "    unit_stays = stayid\n",
    "    nb_unit_stays = unit_stays.shape[0]\n",
    "    for i, stay_id in enumerate(unit_stays):\n",
    "        if verbose:\n",
    "            sys.stdout.write('\\rStayID {0} of {1}...'.format(i+1, nb_unit_stays))\n",
    "        dn = os.path.join(data_path, str(stay_id))\n",
    "        try:\n",
    "            os.makedirs(dn)  \n",
    "        except:\n",
    "            pass\n",
    "        icu_lab.ix[icu_lab.ICUSTAY_ID == stay_id].to_csv(os.path.join(dn, 'icu_lab.csv'), index=False)\n",
    "    if verbose:\n",
    "        sys.stdout.write('DONE!\\n')"
   ]
  },
  {
   "cell_type": "code",
   "execution_count": null,
   "metadata": {},
   "outputs": [],
   "source": [
    "stay_id_icu_lab  = cohort_stay_id(icu_lab)"
   ]
  },
  {
   "cell_type": "code",
   "execution_count": null,
   "metadata": {},
   "outputs": [],
   "source": [
    "break_up_icu_lab_by_unit_stay(icu_lab, data_path, stayid=stay_id_icu_lab, verbose=1)"
   ]
  },
  {
   "cell_type": "markdown",
   "metadata": {},
   "source": [
    "# INPUT - MV"
   ]
  },
  {
   "cell_type": "code",
   "execution_count": null,
   "metadata": {},
   "outputs": [],
   "source": [
    "def break_up_input_mv_by_unit_stay(input_mv, data_path, stayid, verbose=1):\n",
    "    unit_stays = stayid\n",
    "    nb_unit_stays = unit_stays.shape[0]\n",
    "    for i, stay_id in enumerate(unit_stays):\n",
    "        if verbose:\n",
    "            sys.stdout.write('\\rStayID {0} of {1}...'.format(i+1, nb_unit_stays))\n",
    "        dn = os.path.join(data_path, str(stay_id))\n",
    "        try:\n",
    "            os.makedirs(dn)  \n",
    "        except:\n",
    "            pass\n",
    "        input_mv.ix[input_mv.ICUSTAY_ID == stay_id].to_csv(os.path.join(dn, 'input_mv.csv'), index=False)\n",
    "    if verbose:\n",
    "        sys.stdout.write('DONE!\\n')"
   ]
  },
  {
   "cell_type": "code",
   "execution_count": null,
   "metadata": {},
   "outputs": [],
   "source": [
    "stay_id_input_mv  = cohort_stay_id(input_mv)"
   ]
  },
  {
   "cell_type": "code",
   "execution_count": null,
   "metadata": {},
   "outputs": [],
   "source": [
    "break_up_input_mv_by_unit_stay(input_mv, data_path, stayid=stay_id_input_mv, verbose=1)"
   ]
  },
  {
   "cell_type": "markdown",
   "metadata": {},
   "source": [
    "# PRESCRIPTION"
   ]
  },
  {
   "cell_type": "code",
   "execution_count": null,
   "metadata": {},
   "outputs": [],
   "source": [
    "def break_up_prescription_by_unit_stay(prescription, data_path, stayid, verbose=1):\n",
    "    unit_stays = stayid\n",
    "    nb_unit_stays = unit_stays.shape[0]\n",
    "    for i, stay_id in enumerate(unit_stays):\n",
    "        if verbose:\n",
    "            sys.stdout.write('\\rStayID {0} of {1}...'.format(i+1, nb_unit_stays))\n",
    "        dn = os.path.join(data_path, str(stay_id))\n",
    "        try:\n",
    "            os.makedirs(dn)  \n",
    "        except:\n",
    "            pass\n",
    "        prescription.ix[prescription.ICUSTAY_ID == stay_id].to_csv(os.path.join(dn, 'prescription.csv'), index=False)\n",
    "    if verbose:\n",
    "        sys.stdout.write('DONE!\\n')"
   ]
  },
  {
   "cell_type": "code",
   "execution_count": null,
   "metadata": {},
   "outputs": [],
   "source": [
    "stay_id_prescription  = cohort_stay_id(prescription)"
   ]
  },
  {
   "cell_type": "code",
   "execution_count": null,
   "metadata": {},
   "outputs": [],
   "source": [
    "break_up_prescription_by_unit_stay(prescription, data_path, stayid=stay_id_prescription, verbose=1)"
   ]
  },
  {
   "cell_type": "markdown",
   "metadata": {},
   "source": [
    "# ALL TABLES"
   ]
  },
  {
   "cell_type": "code",
   "execution_count": null,
   "metadata": {},
   "outputs": [],
   "source": [
    "def break_up_all_tables_by_unit_stay(all_tables, data_path, stayid, verbose=1):\n",
    "    unit_stays = stayid\n",
    "    nb_unit_stays = unit_stays.shape[0]\n",
    "    for i, stay_id in enumerate(unit_stays):\n",
    "        if verbose:\n",
    "            sys.stdout.write('\\rStayID {0} of {1}...'.format(i+1, nb_unit_stays))\n",
    "        dn = os.path.join(data_path, str(stay_id))\n",
    "        try:\n",
    "            os.makedirs(dn)  \n",
    "        except:\n",
    "            pass\n",
    "        all_tables.ix[all_tables.ICUSTAY_ID == stay_id].to_csv(os.path.join(dn, 'all_tables.csv'), index=False)\n",
    "    if verbose:\n",
    "        sys.stdout.write('DONE!\\n')"
   ]
  },
  {
   "cell_type": "code",
   "execution_count": null,
   "metadata": {},
   "outputs": [],
   "source": [
    "stay_id_all_tables  = cohort_stay_id(all_tables)"
   ]
  },
  {
   "cell_type": "code",
   "execution_count": null,
   "metadata": {},
   "outputs": [],
   "source": [
    "break_up_all_tables_by_unit_stay(all_tables, data_path, stayid=stay_id_all_tables, verbose=1)"
   ]
  },
  {
   "cell_type": "markdown",
   "metadata": {},
   "source": [
    "# Extract Time Series"
   ]
  },
  {
   "cell_type": "code",
   "execution_count": null,
   "metadata": {},
   "outputs": [],
   "source": [
    "all_variables = list(all_tables.LABEL.unique())"
   ]
  },
  {
   "cell_type": "code",
   "execution_count": null,
   "metadata": {},
   "outputs": [],
   "source": [
    "all_variables"
   ]
  },
  {
   "cell_type": "code",
   "execution_count": null,
   "metadata": {},
   "outputs": [],
   "source": [
    "def filter_on_variabels(all_tables, all_variables):\n",
    "    all_tables = all_tables[all_tables['LABEL'].isin(all_variables)]\n",
    "    return all_tables"
   ]
  },
  {
   "cell_type": "code",
   "execution_count": null,
   "metadata": {},
   "outputs": [],
   "source": [
    "def convert_events_to_timeseries(all_features, all_variables):\n",
    "    metadata  = all_features[['CHARTTIME', 'ICUSTAY_ID']].sort_values(by=['CHARTTIME'])\\\n",
    "                    .drop_duplicates(keep='first').set_index('CHARTTIME')\n",
    "    timeserie = all_features[['CHARTTIME', 'LABEL', 'VALUE']]\\\n",
    "                    .sort_values(by=['CHARTTIME'], axis=0)\\\n",
    "                    .drop_duplicates(subset=['CHARTTIME', 'LABEL'], keep='last')\n",
    "    time_piv  = timeserie.pivot(index='CHARTTIME', columns='LABEL', values='VALUE')\n",
    "    timeseries = time_piv.merge(metadata, left_index=True, right_index=True).sort_index(axis=0).reset_index()\n",
    "    for v in all_variables:\n",
    "        if v not in timeseries.columns:\n",
    "            timeseries[v] = np.nan            \n",
    "    return timeseries"
   ]
  },
  {
   "cell_type": "code",
   "execution_count": null,
   "metadata": {},
   "outputs": [],
   "source": [
    "def binning(final, x=60):\n",
    "    final.CHARTTIME = pd.to_datetime(final.CHARTTIME)\n",
    "    final.INTIME = pd.to_datetime(final.INTIME)\n",
    "    final['HOURS'] = (final.CHARTTIME - final.INTIME).apply(lambda s: s / np.timedelta64(1, 's')) / 60./60\n",
    "    final.drop(columns=['SUBJECT_ID', 'HADM_ID', 'CHARTTIME', 'INTIME', 'OUTTIME'], inplace=True)\n",
    "    final['MINUTES'] = (final.HOURS).apply(lambda s: s * 60)\n",
    "    final['BIN'] = (final['MINUTES']/ x).astype(int)\n",
    "    final = final.fillna(final.groupby(['BIN']).transform('mean'))\n",
    "    final.drop_duplicates(subset=['BIN'], keep='last',inplace=True)\n",
    "    return final"
   ]
  },
  {
   "cell_type": "code",
   "execution_count": null,
   "metadata": {},
   "outputs": [],
   "source": [
    "len(os.listdir(data_path))"
   ]
  },
  {
   "cell_type": "code",
   "execution_count": null,
   "metadata": {},
   "outputs": [],
   "source": [
    "def extract_time_series_from_subject(data_path, all_variables):    \n",
    "    for stay_dir in os.listdir(data_path):\n",
    "        dn = os.path.join(data_path, stay_dir)\n",
    "        try:\n",
    "            sys.stdout.flush()\n",
    "            \n",
    "            admission  = dataframe_from_csv(os.path.join(data_path, stay_dir,'admission.csv'))\n",
    "            all_tables = dataframe_from_csv(os.path.join(data_path, stay_dir, 'all_tables.csv'))\n",
    "            all_tables = filter_on_variabels(all_tables, all_variables)\n",
    "            all_features = all_tables.sort_values(by=['CHARTTIME'])\n",
    "            timeepisode  = convert_events_to_timeseries(all_features, all_variables)\n",
    "            final  = pd.merge(timeepisode, admission, on='ICUSTAY_ID')\n",
    "            final  = final.sort_values(by=['CHARTTIME'])\n",
    "            df_bin = binning(final, 60)\n",
    "            df_bin.to_csv(os.path.join(dn, 'timeseries.csv'), index=False)\n",
    "            sys.stdout.write('\\rWrite StayID {0}...\\n'.format(int(stay_dir)))\n",
    "            if not os.path.isfile(os.path.join(dn,'timeseries.csv')):\n",
    "                raise Exception\n",
    "        except :\n",
    "            continue\n",
    "    print('DONE')"
   ]
  },
  {
   "cell_type": "code",
   "execution_count": null,
   "metadata": {
    "scrolled": true
   },
   "outputs": [],
   "source": [
    "extract_time_series_from_subject(data_path, all_variables)"
   ]
  },
  {
   "cell_type": "code",
   "execution_count": 161,
   "metadata": {},
   "outputs": [],
   "source": [
    "import shutil\n",
    "def delete_wo_timeseries(t_path):\n",
    "    # import pdb;pdb.set_trace()\n",
    "    for stay_dir in os.listdir(t_path):\n",
    "        dn = os.path.join(t_path, stay_dir)\n",
    "        try:\n",
    "            stay_id = int(stay_dir)\n",
    "            if not os.path.isdir(dn):\n",
    "                raise Exception\n",
    "        except:\n",
    "            continue\n",
    "        try:\n",
    "            sys.stdout.flush()\n",
    "            if not os.path.isfile(os.path.join(dn, 'timeseries.csv')):\n",
    "                shutil.rmtree(dn)\n",
    "        except:\n",
    "            continue\n",
    "    print('DONE deleting')"
   ]
  },
  {
   "cell_type": "code",
   "execution_count": null,
   "metadata": {},
   "outputs": [],
   "source": [
    "delete_wo_timeseries(data_path)"
   ]
  },
  {
   "cell_type": "code",
   "execution_count": null,
   "metadata": {},
   "outputs": [],
   "source": [
    "len(os.listdir(data_path))"
   ]
  },
  {
   "cell_type": "code",
   "execution_count": null,
   "metadata": {},
   "outputs": [],
   "source": [
    "all_stays  = pd.Series(os.listdir(data_path))\n",
    "all_filenames = []\n",
    "for stay_id in (all_stays):\n",
    "    df_file = os.path.join(data_path, str(stay_id), 'timeseries.csv')\n",
    "    all_filenames.append(df_file)\n",
    "all_series = pd.concat([pd.read_csv(f) for f in all_filenames])"
   ]
  },
  {
   "cell_type": "code",
   "execution_count": null,
   "metadata": {},
   "outputs": [],
   "source": [
    "combined_csv = pd.concat([pd.read_csv(f) for f in all_filenames])\n",
    "\n",
    "combined_csv.to_csv(os.path.join(path_csv, 'all_data_delirium_mimic.csv'), index=False)\n"
   ]
  }
 ],
 "metadata": {
  "kernelspec": {
   "display_name": "Python 3",
   "language": "python",
   "name": "python3"
  },
  "language_info": {
   "codemirror_mode": {
    "name": "ipython",
    "version": 3
   },
   "file_extension": ".py",
   "mimetype": "text/x-python",
   "name": "python",
   "nbconvert_exporter": "python",
   "pygments_lexer": "ipython3",
   "version": "3.6.8"
  }
 },
 "nbformat": 4,
 "nbformat_minor": 2
}
