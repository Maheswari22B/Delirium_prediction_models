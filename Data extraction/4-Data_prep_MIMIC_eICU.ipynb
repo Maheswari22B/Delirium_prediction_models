{
 "cells": [
  {
   "cell_type": "code",
   "execution_count": 2,
   "metadata": {},
   "outputs": [],
   "source": [
    "from __future__ import absolute_import\n",
    "from __future__ import print_function\n",
    "import matplotlib.pyplot as plt\n",
    "import pandas as pd\n",
    "import csv\n",
    "import sys\n",
    "import os\n",
    "import numpy as np\n",
    "from scipy import stats\n",
    "from numpy import array\n",
    "%matplotlib inline\n",
    "pd.set_option('display.max_columns', 500)\n",
    "pd.set_option('display.max_rows', 500)\n",
    "data_processed_path = '/media/ehealth/HDD/ICU/DataSets/eICU/Delirium/new_prob_def/data/'\n",
    "data_processed_path_mimic = \"directory to load mimic preprocessed data\"\n",
    "data_processed_path_eicu  = \"directory to load eicu preprocessed data\""
   ]
  },
  {
   "cell_type": "code",
   "execution_count": 3,
   "metadata": {},
   "outputs": [],
   "source": [
    "eicu_pos = pd.read_csv(os.path.join(data_processed_path_eicu,\"pos_eicu_imputed_24los.csv\"))\n",
    "eicu_neg = pd.read_csv(os.path.join(data_processed_path_eicu,\"neg_eicu_imputed_24los.csv\"))\n",
    "mimic_pos = pd.read_csv(os.path.join(data_processed_path_mimic,\"pos_mimic_imputed_24los.csv\"))\n",
    "mimic_neg = pd.read_csv(os.path.join(data_processed_path_mimic,\"neg_mimic_imputed_24los.csv\"))"
   ]
  },
  {
   "cell_type": "code",
   "execution_count": null,
   "metadata": {},
   "outputs": [],
   "source": [
    "mimic_df = pd.concat([mimic_pos, mimic_neg],axis=0)\n",
    "mimic_df.patientunitstayid.nunique()"
   ]
  },
  {
   "cell_type": "code",
   "execution_count": null,
   "metadata": {},
   "outputs": [],
   "source": [
    "eicu_df = pd.concat([eicu_pos, eicu_neg],axis=0)\n",
    "eicu_df.patientunitstayid.nunique()"
   ]
  },
  {
   "cell_type": "code",
   "execution_count": null,
   "metadata": {},
   "outputs": [],
   "source": [
    "eicu_pos.head()"
   ]
  },
  {
   "cell_type": "markdown",
   "metadata": {},
   "source": [
    "# Delirium onset distribution"
   ]
  },
  {
   "cell_type": "code",
   "execution_count": null,
   "metadata": {},
   "outputs": [],
   "source": [
    "tot_df = eicu_df\n",
    "tot_df = tot_df [['patientunitstayid', 'itemoffset', 'CAM', 'labelrec',\n",
    "       'LOS']]\n",
    "onset = tot_df[tot_df['labelrec']==1]\n",
    "onset = onset.groupby('patientunitstayid').first()\n",
    "onset.reset_index(inplace=True)\n",
    "onset['itemoffset'] = onset['itemoffset'] / 24\n",
    "\n",
    "plt.figure()\n",
    "plt.xlabel('itemoffset')\n",
    "onset['itemoffset'].plot.hist(bins=100)\n",
    "plt.xlabel(\"Day of admission\")\n",
    "plt.ylabel(\"Number of patient\")\n",
    "plt.savefig(\"eicu_delirium\",dpi=400, facecolor='white', bbox_inches = 'tight',transparent=True)\n",
    "plt.show()\n"
   ]
  },
  {
   "cell_type": "code",
   "execution_count": null,
   "metadata": {},
   "outputs": [],
   "source": [
    "onset['itemoffset'].describe()"
   ]
  },
  {
   "cell_type": "code",
   "execution_count": null,
   "metadata": {},
   "outputs": [],
   "source": [
    "onset = onset[onset['itemoffset']<=15]\n",
    "\n",
    "plt.figure()\n",
    "plt.xlabel('itemoffset')\n",
    "onset['itemoffset'].plot.hist(bins=100)\n",
    "plt.xlabel(\"Day of admission\")\n",
    "plt.ylabel(\"Number of patient\")\n",
    "plt.savefig(\"eicu_delirium_max15\",dpi=400, facecolor='white', bbox_inches = 'tight',transparent=True)\n",
    "plt.show()\n"
   ]
  },
  {
   "cell_type": "code",
   "execution_count": null,
   "metadata": {},
   "outputs": [],
   "source": [
    "onset['itemoffset'].describe()"
   ]
  },
  {
   "cell_type": "code",
   "execution_count": null,
   "metadata": {},
   "outputs": [],
   "source": [
    "onset = onset[onset['itemoffset']<=2]\n",
    "onset['itemoffset'].describe()"
   ]
  },
  {
   "cell_type": "markdown",
   "metadata": {},
   "source": [
    "## MIMIC"
   ]
  },
  {
   "cell_type": "code",
   "execution_count": null,
   "metadata": {},
   "outputs": [],
   "source": [
    "# tot_df = pd.concat([eicu_df, mimic_df],axis=0)\n",
    "tot_df = mimic_df\n",
    "tot_df = tot_df [['patientunitstayid', 'itemoffset', 'CAM', 'labelrec',\n",
    "       'LOS']]\n",
    "onset = tot_df[tot_df['labelrec']==1]\n",
    "onset = onset.groupby('patientunitstayid').first()\n",
    "onset.reset_index(inplace=True)\n",
    "onset['itemoffset'] = onset['itemoffset'] / 24\n",
    "\n",
    "plt.figure()\n",
    "plt.xlabel('itemoffset')\n",
    "onset['itemoffset'].plot.hist(bins=100)\n",
    "plt.xlabel(\"Day of admission\")\n",
    "plt.ylabel(\"Number of patient\")\n",
    "plt.savefig(\"mimic_delirium\",dpi=400, facecolor='white', bbox_inches = 'tight',transparent=True)\n",
    "plt.show()\n"
   ]
  },
  {
   "cell_type": "code",
   "execution_count": null,
   "metadata": {},
   "outputs": [],
   "source": [
    "onset['itemoffset'].describe()"
   ]
  },
  {
   "cell_type": "code",
   "execution_count": null,
   "metadata": {},
   "outputs": [],
   "source": [
    "onset = onset[onset['itemoffset']<=15]\n",
    "\n",
    "plt.figure()\n",
    "plt.xlabel('itemoffset')\n",
    "onset['itemoffset'].plot.hist(bins=100)\n",
    "plt.xlabel(\"Day of admission\")\n",
    "plt.ylabel(\"Number of patient\")\n",
    "plt.savefig(\"mimic_delirium_max15\",dpi=400, facecolor='white', bbox_inches = 'tight',transparent=True)\n",
    "plt.show()\n"
   ]
  },
  {
   "cell_type": "code",
   "execution_count": null,
   "metadata": {},
   "outputs": [],
   "source": [
    "onset['itemoffset'].describe()"
   ]
  },
  {
   "cell_type": "code",
   "execution_count": null,
   "metadata": {},
   "outputs": [],
   "source": [
    "onset = onset[onset['itemoffset']<=2]\n",
    "onset['itemoffset'].describe()"
   ]
  },
  {
   "cell_type": "code",
   "execution_count": null,
   "metadata": {},
   "outputs": [],
   "source": [
    "mimic_pos.groupby('patientunitstayid').first().shape"
   ]
  },
  {
   "cell_type": "markdown",
   "metadata": {},
   "source": [
    "# Selection"
   ]
  },
  {
   "cell_type": "code",
   "execution_count": 9,
   "metadata": {},
   "outputs": [],
   "source": [
    "features = ['gender', 'age', 'admissionheight',\n",
    "       'admissionweight', 'Heart Rate', 'O2 Saturation', 'glucose',\n",
    "       'Temperature (C)', 'sodium', 'BUN', 'WBC x 1000', 'direct bilirubin',\n",
    "       'Hemoglobin', 'Platelets', 'Potassium', 'Chloride', 'Bicarbonate',\n",
    "       'Creatinine', 'ALT', 'AST', 'Alkaline Phosphate', 'sofa', 'sofa_wo_gcs',\n",
    "       'vent_flag', 'rate_dopamine', 'rate_epinephrine', 'rate_norepinephrine',\n",
    "       'rate_phenylephrine', 'CAM', 'labelrec',\n",
    "       'labelpt']"
   ]
  },
  {
   "cell_type": "code",
   "execution_count": 10,
   "metadata": {},
   "outputs": [],
   "source": [
    "def check(x):\n",
    "    try:\n",
    "        x = float(str(x).strip())\n",
    "    except:\n",
    "        x = np.nan\n",
    "    return x\n",
    "\n",
    "def check_itemvalue(df):\n",
    "    for c in df.columns:\n",
    "        df[c] = df[c].apply(lambda x: check(x))\n",
    "    return df\n"
   ]
  },
  {
   "cell_type": "code",
   "execution_count": 11,
   "metadata": {},
   "outputs": [],
   "source": [
    "eicu_df = check_itemvalue(eicu_df)\n",
    "mimic_df = check_itemvalue(mimic_df)\n"
   ]
  },
  {
   "cell_type": "code",
   "execution_count": null,
   "metadata": {},
   "outputs": [],
   "source": [
    "eicu_df.shape,mimic_df.shape"
   ]
  },
  {
   "cell_type": "markdown",
   "metadata": {},
   "source": [
    "## No of Patients"
   ]
  },
  {
   "cell_type": "code",
   "execution_count": null,
   "metadata": {},
   "outputs": [],
   "source": [
    "eicu_df = eicu_df[eicu_df['gender']!=0]\n",
    "eicu_df.patientunitstayid.nunique()"
   ]
  },
  {
   "cell_type": "code",
   "execution_count": null,
   "metadata": {},
   "outputs": [],
   "source": [
    "mimic_df.patientunitstayid.nunique()"
   ]
  },
  {
   "cell_type": "code",
   "execution_count": null,
   "metadata": {},
   "outputs": [],
   "source": [
    "import matplotlib.pyplot as plt\n",
    "pd.set_option('display.max_columns', 500)\n",
    "\n",
    "column = eicu_df.columns\n",
    "\n",
    "for col in column:\n",
    "    ncol = eicu_df[col]\n",
    "    plt.figure()\n",
    "    plt.xlabel(col)\n",
    "    ncol.plot.hist(bins=100)\n",
    "    plt.show()\n",
    "    print(ncol.describe())"
   ]
  },
  {
   "cell_type": "code",
   "execution_count": null,
   "metadata": {
    "scrolled": true
   },
   "outputs": [],
   "source": [
    "import matplotlib.pyplot as plt\n",
    "pd.set_option('display.max_columns', 500)\n",
    "\n",
    "column = mimic_df.columns\n",
    "\n",
    "for col in column:\n",
    "    ncol = mimic_df[col]\n",
    "    plt.figure()\n",
    "    plt.xlabel(col)\n",
    "    ncol.plot.hist(bins=100)\n",
    "    plt.show()\n",
    "    print(ncol.describe())"
   ]
  },
  {
   "cell_type": "code",
   "execution_count": 15,
   "metadata": {},
   "outputs": [],
   "source": [
    "def detect_outlier(data,columns):\n",
    "    \n",
    "    cols = list(columns)\n",
    "    \n",
    "    for col in cols:\n",
    "        ncol = data[col]\n",
    "        outliers = []\n",
    "        threshold = 3.5\n",
    "        mean = np.mean(ncol)\n",
    "        std  = np.std(ncol)\n",
    "        \n",
    "        for x in ncol:\n",
    "            z_score= (x - mean) / std \n",
    "            if np.abs(z_score) > threshold:\n",
    "                outliers.append(x)\n",
    "                \n",
    "        for y in outliers:\n",
    "            data = data.drop(data[data[col] == y].index)\n",
    "    \n",
    "    return data"
   ]
  },
  {
   "cell_type": "code",
   "execution_count": 16,
   "metadata": {},
   "outputs": [],
   "source": [
    "columns_for_outlier_mimic = ['admissionheight',  'admissionweight',  'Heart Rate',  'O2 Saturation',  'glucose',  'Temperature (C)',\n",
    " 'sodium', 'BUN', 'WBC x 1000', 'Hemoglobin', 'Platelets', 'Potassium', 'Chloride', 'Bicarbonate', 'Creatinine']\n",
    "\n"
   ]
  },
  {
   "cell_type": "code",
   "execution_count": null,
   "metadata": {},
   "outputs": [],
   "source": [
    "mimic_outlier = detect_outlier(mimic_df,columns_for_outlier_mimic)"
   ]
  },
  {
   "cell_type": "code",
   "execution_count": null,
   "metadata": {},
   "outputs": [],
   "source": [
    "import matplotlib.pyplot as plt\n",
    "pd.set_option('display.max_columns', 500)\n",
    "\n",
    "column = mimic_outlier.columns\n",
    "\n",
    "for col in column:\n",
    "    ncol = mimic_outlier[col]\n",
    "    plt.figure()\n",
    "    plt.xlabel(col)\n",
    "    ncol.plot.hist(bins=100)\n",
    "    plt.show()\n",
    "    print(ncol.describe())"
   ]
  },
  {
   "cell_type": "code",
   "execution_count": null,
   "metadata": {},
   "outputs": [],
   "source": [
    "columns_for_outlier_eicu = ['admissionheight',  'admissionweight',  'Heart Rate',  'O2 Saturation',  'glucose',  'Temperature (C)',\n",
    " 'sodium', 'BUN', 'WBC x 1000', 'Hemoglobin', 'Platelets', 'Potassium', 'Chloride', 'Bicarbonate', 'Creatinine']\n",
    "eicu_outlier = detect_outlier(eicu_df,columns_for_outlier_eicu)"
   ]
  },
  {
   "cell_type": "code",
   "execution_count": null,
   "metadata": {},
   "outputs": [],
   "source": [
    "import matplotlib.pyplot as plt\n",
    "pd.set_option('display.max_columns', 500)\n",
    "\n",
    "column = eicu_outlier.columns\n",
    "\n",
    "for col in column:\n",
    "    ncol = eicu_outlier[col]\n",
    "    plt.figure()\n",
    "    plt.xlabel(col)\n",
    "    ncol.plot.hist(bins=100)\n",
    "    plt.show()\n",
    "    print(ncol.describe())"
   ]
  },
  {
   "cell_type": "code",
   "execution_count": null,
   "metadata": {},
   "outputs": [],
   "source": [
    "eicu_outlier.patientunitstayid.nunique(), mimic_outlier.patientunitstayid.nunique()"
   ]
  },
  {
   "cell_type": "markdown",
   "metadata": {},
   "source": [
    "## Clipping"
   ]
  },
  {
   "cell_type": "code",
   "execution_count": null,
   "metadata": {},
   "outputs": [],
   "source": [
    "def check_in_range(df):\n",
    "    df['Temperature (C)'].clip(22, 45, inplace=True)\n",
    "    return df"
   ]
  },
  {
   "cell_type": "code",
   "execution_count": null,
   "metadata": {},
   "outputs": [],
   "source": [
    "eicu_df = check_in_range(eicu_outlier)\n",
    "mimic_df = check_in_range(mimic_outlier)"
   ]
  },
  {
   "cell_type": "markdown",
   "metadata": {},
   "source": [
    "# Data prepration before normalizing "
   ]
  },
  {
   "cell_type": "code",
   "execution_count": null,
   "metadata": {},
   "outputs": [],
   "source": [
    "eicu_df.columns"
   ]
  },
  {
   "cell_type": "markdown",
   "metadata": {},
   "source": [
    "### Normalizer for Embedding"
   ]
  },
  {
   "cell_type": "code",
   "execution_count": null,
   "metadata": {},
   "outputs": [],
   "source": [
    "categ_col = ['gender','sofa', 'sofa_wo_gcs']\n"
   ]
  },
  {
   "cell_type": "code",
   "execution_count": null,
   "metadata": {},
   "outputs": [],
   "source": [
    "model_columns = ['patientunitstayid', 'itemoffset', 'gender', 'age', 'admissionheight',\n",
    "       'admissionweight', 'Heart Rate', 'O2 Saturation', 'glucose',\n",
    "       'Temperature (C)', 'sodium', 'BUN', 'WBC x 1000', 'Hemoglobin',\n",
    "       'Platelets', 'Potassium', 'Chloride', 'Bicarbonate', 'Creatinine',\n",
    "       'sofa', 'sofa_wo_gcs', 'vent_flag', 'rate_dopamine', 'rate_epinephrine',\n",
    "       'rate_norepinephrine', 'rate_phenylephrine', 'CAM','labelrec','labelpt']"
   ]
  },
  {
   "cell_type": "code",
   "execution_count": null,
   "metadata": {},
   "outputs": [],
   "source": [
    "eicu_df = eicu_outlier[model_columns]\n",
    "mimic_df = mimic_outlier[model_columns]"
   ]
  },
  {
   "cell_type": "code",
   "execution_count": null,
   "metadata": {},
   "outputs": [],
   "source": [
    "emb = categ_col"
   ]
  },
  {
   "cell_type": "code",
   "execution_count": null,
   "metadata": {},
   "outputs": [],
   "source": [
    "eicu_df.shape,mimic_df.shape"
   ]
  },
  {
   "cell_type": "code",
   "execution_count": null,
   "metadata": {},
   "outputs": [],
   "source": [
    "eicu_df.patientunitstayid = eicu_df.patientunitstayid.astype(int)\n",
    "eicu_df.sofa = eicu_df.sofa.astype(int)\n",
    "eicu_df.sofa_wo_gcs = eicu_df.sofa_wo_gcs.astype(int)\n",
    "eicu_df.gender = eicu_df.gender.astype(int)\n",
    "\n",
    "mimic_df.patientunitstayid = mimic_df.patientunitstayid.astype(int)\n",
    "mimic_df.sofa = mimic_df.sofa.astype(int)\n",
    "mimic_df.sofa_wo_gcs = mimic_df.sofa_wo_gcs.astype(int)\n",
    "mimic_df.gender = mimic_df.gender.astype(int)"
   ]
  },
  {
   "cell_type": "code",
   "execution_count": null,
   "metadata": {},
   "outputs": [],
   "source": [
    "mimic_df = mimic_df[mimic_df['sofa']<=20]\n",
    "mimic_df = mimic_df[mimic_df['sofa_wo_gcs']<=17]\n",
    "eicu_df = eicu_df[eicu_df['sofa']<=20]\n",
    "eicu_df = eicu_df[eicu_df['sofa_wo_gcs']<=17]"
   ]
  },
  {
   "cell_type": "code",
   "execution_count": null,
   "metadata": {},
   "outputs": [],
   "source": [
    "mimic_df[emb].describe().loc[['min','max']]"
   ]
  },
  {
   "cell_type": "code",
   "execution_count": null,
   "metadata": {},
   "outputs": [],
   "source": [
    "eicu_df[emb].describe().loc[['min','max']]"
   ]
  },
  {
   "cell_type": "code",
   "execution_count": null,
   "metadata": {},
   "outputs": [],
   "source": [
    "mimic_df.patientunitstayid.nunique()"
   ]
  },
  {
   "cell_type": "code",
   "execution_count": null,
   "metadata": {},
   "outputs": [],
   "source": [
    "gemax = eicu_df.gender.max() \n",
    "sofamax = eicu_df['sofa'].max()+1\n",
    "sofawogcsmax = eicu_df['sofa_wo_gcs'].max()+2\n",
    "eicu_df.gender = eicu_df.gender \n",
    "eicu_df['sofa'] = eicu_df['sofa'] +gemax+1\n",
    "eicu_df['sofa_wo_gcs'] = eicu_df['sofa_wo_gcs'] +gemax+sofamax+1"
   ]
  },
  {
   "cell_type": "code",
   "execution_count": null,
   "metadata": {},
   "outputs": [],
   "source": [
    "gemax = mimic_df.gender.max() \n",
    "sofamax = mimic_df['sofa'].max()+1\n",
    "sofawogcsmax = mimic_df['sofa_wo_gcs'].max()+2\n",
    "mimic_df.gender = mimic_df.gender \n",
    "mimic_df['sofa'] = mimic_df['sofa'] +gemax+1\n",
    "mimic_df['sofa_wo_gcs'] = mimic_df['sofa_wo_gcs'] +gemax+sofamax+1"
   ]
  },
  {
   "cell_type": "code",
   "execution_count": null,
   "metadata": {},
   "outputs": [],
   "source": [
    "eicu_df[emb].describe().loc[['min','max']]"
   ]
  },
  {
   "cell_type": "code",
   "execution_count": null,
   "metadata": {
    "scrolled": true
   },
   "outputs": [],
   "source": [
    "mimic_df[emb].describe().loc[['min','max']]"
   ]
  },
  {
   "cell_type": "code",
   "execution_count": null,
   "metadata": {},
   "outputs": [],
   "source": [
    "train_df = eicu_df\n",
    "test_df = mimic_df"
   ]
  },
  {
   "cell_type": "code",
   "execution_count": null,
   "metadata": {},
   "outputs": [],
   "source": [
    "train_df[train_df['CAM']==1]['patientunitstayid'].nunique(),test_df[test_df['CAM']==1]['patientunitstayid'].nunique()"
   ]
  },
  {
   "cell_type": "markdown",
   "metadata": {},
   "source": [
    "### Normalizer"
   ]
  },
  {
   "cell_type": "code",
   "execution_count": null,
   "metadata": {},
   "outputs": [],
   "source": [
    "from sklearn.preprocessing import MinMaxScaler\n",
    "norm_col = ['age', 'admissionheight','admissionweight', 'Heart Rate', 'O2 Saturation', 'glucose',\n",
    "       'Temperature (C)', 'sodium', 'BUN', 'WBC x 1000', 'Hemoglobin','Platelets',\n",
    "        'Potassium', 'Chloride', 'Bicarbonate', 'Creatinine','rate_dopamine', 'rate_epinephrine',\n",
    "       'rate_norepinephrine', 'rate_phenylephrine']\n",
    "\n",
    "## Fit the normalizer\n",
    "feat_train_minmax = train_df[norm_col]\n",
    "scaler_minmax = MinMaxScaler(feature_range=(0, 1), copy=True).fit(feat_train_minmax.values)\n",
    "\n",
    "## Transform the normalizer\n",
    "feat_train_minmax = train_df[norm_col]\n",
    "feat_train_minmax = scaler_minmax.transform(feat_train_minmax.values)\n",
    "train_df[norm_col] = feat_train_minmax"
   ]
  },
  {
   "cell_type": "code",
   "execution_count": null,
   "metadata": {},
   "outputs": [],
   "source": [
    "scaler_minmax.data_max_"
   ]
  },
  {
   "cell_type": "code",
   "execution_count": null,
   "metadata": {},
   "outputs": [],
   "source": [
    "for col, a,b in zip(norm_col, scaler_minmax.data_min_, scaler_minmax.data_max_):\n",
    "    test_df[col].clip(a, b, inplace=True)\n",
    "feat_test_minmax = test_df[norm_col]\n",
    "feat_test_minmax = scaler_minmax.transform(feat_test_minmax.values)\n",
    "test_df[norm_col] = feat_test_minmax"
   ]
  },
  {
   "cell_type": "code",
   "execution_count": null,
   "metadata": {},
   "outputs": [],
   "source": [
    "test_df.columns"
   ]
  },
  {
   "cell_type": "code",
   "execution_count": null,
   "metadata": {},
   "outputs": [],
   "source": [
    "test_df.head()"
   ]
  },
  {
   "cell_type": "code",
   "execution_count": null,
   "metadata": {},
   "outputs": [],
   "source": [
    "train_df[train_df['patientunitstayid']==1064154]"
   ]
  },
  {
   "cell_type": "markdown",
   "metadata": {},
   "source": [
    "## Save eICU and MIMIC data"
   ]
  },
  {
   "cell_type": "code",
   "execution_count": 51,
   "metadata": {},
   "outputs": [],
   "source": [
    "train_df.reset_index(drop=True,inplace=True)\n",
    "test_df.reset_index(drop=True,inplace=True)"
   ]
  },
  {
   "cell_type": "code",
   "execution_count": 52,
   "metadata": {},
   "outputs": [],
   "source": [
    "train_df.to_csv(\"eicu_df_all_24los_normed.csv\", index=False)\n",
    "test_df.to_csv(\"mimic_df_all_24los_normed.csv\", index=False)"
   ]
  },
  {
   "cell_type": "code",
   "execution_count": null,
   "metadata": {},
   "outputs": [],
   "source": [
    "test_df[test_df['CAM']==1]['patientunitstayid'].nunique()"
   ]
  },
  {
   "cell_type": "code",
   "execution_count": null,
   "metadata": {},
   "outputs": [],
   "source": [
    "train_df[train_df['CAM']==1]['patientunitstayid'].nunique()"
   ]
  },
  {
   "cell_type": "code",
   "execution_count": null,
   "metadata": {},
   "outputs": [],
   "source": [
    "test_df['patientunitstayid'].nunique()"
   ]
  },
  {
   "cell_type": "code",
   "execution_count": null,
   "metadata": {},
   "outputs": [],
   "source": [
    "train_df['patientunitstayid'].nunique()"
   ]
  },
  {
   "cell_type": "code",
   "execution_count": 74,
   "metadata": {},
   "outputs": [],
   "source": [
    "tsg  = test_df.groupby('patientunitstayid')\n",
    "trg = train_df.groupby('patientunitstayid')\n",
    "\n",
    "idts = []\n",
    "test_np = []\n",
    "for idx, frame in tsg:\n",
    "    idts.append(idx)\n",
    "    test_np.append(frame)\n",
    "\n",
    "idtr = []\n",
    "train_np = []\n",
    "for idx, frame in trg:\n",
    "    idtr.append(idx)\n",
    "    train_np.append(frame)"
   ]
  },
  {
   "cell_type": "code",
   "execution_count": 75,
   "metadata": {},
   "outputs": [],
   "source": [
    "import sys\n",
    "import numpy as np\n",
    "columns_ord = ['patientunitstayid', 'itemoffset', 'gender','sofa', 'sofa_wo_gcs', 'age', 'admissionheight',\n",
    "       'admissionweight', 'Heart Rate', 'O2 Saturation', 'glucose',\n",
    "       'Temperature (C)', 'sodium', 'BUN', 'WBC x 1000', 'Hemoglobin',\n",
    "       'Platelets', 'Potassium', 'Chloride', 'Bicarbonate', 'Creatinine',\n",
    "        'vent_flag', 'rate_dopamine', 'rate_epinephrine',\n",
    "       'rate_norepinephrine', 'rate_phenylephrine', 'CAM']\n",
    "\n",
    "def reader_deli(df_list,verbose=1):\n",
    "    X_noncat = []\n",
    "    X_cat = []\n",
    "    deli = []\n",
    "    nrows = []\n",
    "    ts = []\n",
    "    PID = []\n",
    "    nb_unit_stays = len(df_list)\n",
    "    for i, df in enumerate(df_list):\n",
    "        if verbose:\n",
    "            sys.stdout.write('\\rFeed StayID {0} of {1}...'.format(i+1, nb_unit_stays))\n",
    "        dft = df\n",
    "        dummy = pd.DataFrame(columns=columns_ord)\n",
    "        for c in columns_ord:\n",
    "            dummy[c] = dft[c]        \n",
    "        dft = dummy\n",
    "        narr = np.array(dft)\n",
    "        pid = narr[0,0]\n",
    "        x_cat    = narr[:,2:5]\n",
    "        x_noncat = narr[:, 5:-1]\n",
    "        labeldeli = narr[0, -1]\n",
    "        time = narr[:,1]\n",
    "        X_cat.append(x_cat)\n",
    "        X_noncat.append(x_noncat)\n",
    "        deli.append(labeldeli)\n",
    "        ts.append(time)\n",
    "        nrows.append(narr.shape[0])\n",
    "        PID.append(pid)\n",
    "    PID = np.array(PID)    \n",
    "    X_cat = np.array(X_cat)\n",
    "    X_noncat = np.array(X_noncat)\n",
    "    deli = np.array(deli)\n",
    "    ts= np.array(ts)\n",
    "    return PID,X_cat,X_noncat,ts,nrows,deli"
   ]
  },
  {
   "cell_type": "code",
   "execution_count": 76,
   "metadata": {},
   "outputs": [],
   "source": [
    "deli_path = data_processed_path "
   ]
  },
  {
   "cell_type": "code",
   "execution_count": null,
   "metadata": {},
   "outputs": [],
   "source": [
    "PID,X_cat_ts_all,X_noncat_ts_all,ts_ts_all,nrows_ts_all,y_ts_all = reader_deli(test_np)"
   ]
  },
  {
   "cell_type": "code",
   "execution_count": 79,
   "metadata": {},
   "outputs": [],
   "source": [
    "def pad(arr, max_len=24):\n",
    "    tmp = np.zeros((max_len, arr.shape[1]))\n",
    "    tmp[:arr.shape[0], :arr.shape[1]] = arr\n",
    "    return tmp  \n",
    "\n",
    "xtsnc = []\n",
    "xtsc = []\n",
    "\n",
    "for xn_ts in X_noncat_ts:\n",
    "    tsnc.append(pad(xn_ts))\n",
    "for xc_tr in X_cat_ts:\n",
    "    xtsc.append(pad(xc_tr))\n",
    "\n",
    "xtsnc = np.array(tsnc)\n",
    "xtsc = np.array(tsc)\n",
    "\n",
    "np.savez(os.path.join(deli_path, 'mimic_pred_24los.npz'), PID = PID ,X_cat= tsc, X_noncat=tsnc, nrows = nrows_ts_all ,deli=y_ts_all)"
   ]
  },
  {
   "cell_type": "code",
   "execution_count": null,
   "metadata": {},
   "outputs": [],
   "source": [
    "test_file = np.load(os.path.join(deli_path, 'mimic_pred_24los.npz'))\n",
    "test_file['PID'].shape,test_file['X_cat'].shape, test_file['X_noncat'].shape, test_file['deli'].shape,test_file['nrows'].shape"
   ]
  },
  {
   "cell_type": "code",
   "execution_count": null,
   "metadata": {},
   "outputs": [],
   "source": [
    "PID,X_cat_tr_all,X_noncat_tr_all,ts_tr_all,nrows_tr_all,y_tr_all = reader_deli(train_np)"
   ]
  },
  {
   "cell_type": "code",
   "execution_count": 82,
   "metadata": {},
   "outputs": [],
   "source": [
    "def pad(narr, max_len=24):\n",
    "    tmp = np.zeros((max_len, narr.shape[1]))\n",
    "    tmp[:narr.shape[0], :narr.shape[1]] = narr\n",
    "    return tmp  \n",
    "trnc = []\n",
    "for xn_tr in X_noncat_tr_all:\n",
    "    trnc.append(pad(xn_tr))\n",
    "trnc = np.array(trnc)\n",
    "trc = []\n",
    "for xc_tr in X_cat_tr_all:\n",
    "    trc.append(pad(xc_tr))\n",
    "trc = np.array(trc)\n",
    "np.savez(os.path.join(deli_path, 'eicu_pred_24los.npz'),PID = PID , X_cat= trc, X_noncat=trnc,nrows = nrows_tr_all, deli=y_tr_all)"
   ]
  },
  {
   "cell_type": "code",
   "execution_count": null,
   "metadata": {
    "scrolled": true
   },
   "outputs": [],
   "source": [
    "train_file = np.load(os.path.join(deli_path, 'eicu_pred_24los.npz'))\n",
    "test_file['PID'].shape,train_file['X_cat'].shape, train_file['X_noncat'].shape, train_file['deli'].shape,train_file['nrows'].shape,train_file['deli'].shape"
   ]
  }
 ],
 "metadata": {
  "kernelspec": {
   "display_name": "mostafa",
   "language": "python",
   "name": "build_central"
  },
  "language_info": {
   "codemirror_mode": {
    "name": "ipython",
    "version": 3
   },
   "file_extension": ".py",
   "mimetype": "text/x-python",
   "name": "python",
   "nbconvert_exporter": "python",
   "pygments_lexer": "ipython3",
   "version": "3.7.5"
  }
 },
 "nbformat": 4,
 "nbformat_minor": 2
}
